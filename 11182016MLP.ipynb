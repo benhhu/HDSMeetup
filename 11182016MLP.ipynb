{
 "cells": [
  {
   "cell_type": "code",
   "execution_count": 1,
   "metadata": {
    "collapsed": false
   },
   "outputs": [],
   "source": [
    "import pandas as pd"
   ]
  },
  {
   "cell_type": "markdown",
   "metadata": {},
   "source": [
    "## Download PIMA Indians Diabetes dataset"
   ]
  },
  {
   "cell_type": "markdown",
   "metadata": {},
   "source": [
    "1. Number of times pregnant \n",
    "2. Plasma glucose concentration a 2 hours in an oral glucose tolerance test \n",
    "3. Diastolic blood pressure (mm Hg) \n",
    "4. Triceps skin fold thickness (mm) \n",
    "5. 2-Hour serum insulin (mu U/ml) \n",
    "6. Body mass index (weight in kg/(height in m)^2) \n",
    "7. Diabetes pedigree function \n",
    "8. Age (years) \n",
    "9. Class variable (0 or 1) "
   ]
  },
  {
   "cell_type": "code",
   "execution_count": 2,
   "metadata": {
    "collapsed": false
   },
   "outputs": [],
   "source": [
    "url = \"https://archive.ics.uci.edu/ml/machine-learning-databases/pima-indians-diabetes/pima-indians-diabetes.data\"\n",
    "names = ['preg', 'plas', 'pres', 'skin', 'test', 'mass', 'pedi', 'age', 'class']\n",
    "dataset = pd.read_csv(url, names=names)"
   ]
  },
  {
   "cell_type": "markdown",
   "metadata": {},
   "source": [
    "## Summarize Data"
   ]
  },
  {
   "cell_type": "code",
   "execution_count": 3,
   "metadata": {
    "collapsed": false
   },
   "outputs": [
    {
     "name": "stdout",
     "output_type": "stream",
     "text": [
      "(768, 9)\n",
      "preg       int64\n",
      "plas       int64\n",
      "pres       int64\n",
      "skin       int64\n",
      "test       int64\n",
      "mass     float64\n",
      "pedi     float64\n",
      "age        int64\n",
      "class      int64\n",
      "dtype: object\n"
     ]
    }
   ],
   "source": [
    "print(dataset.shape)\n",
    "print(dataset.dtypes)"
   ]
  },
  {
   "cell_type": "code",
   "execution_count": 4,
   "metadata": {
    "collapsed": false
   },
   "outputs": [
    {
     "name": "stdout",
     "output_type": "stream",
     "text": [
      "    preg  plas  pres  skin  test  mass   pedi  age  class\n",
      "0      6   148    72    35     0  33.6  0.627   50      1\n",
      "1      1    85    66    29     0  26.6  0.351   31      0\n",
      "2      8   183    64     0     0  23.3  0.672   32      1\n",
      "3      1    89    66    23    94  28.1  0.167   21      0\n",
      "4      0   137    40    35   168  43.1  2.288   33      1\n",
      "5      5   116    74     0     0  25.6  0.201   30      0\n",
      "6      3    78    50    32    88  31.0  0.248   26      1\n",
      "7     10   115     0     0     0  35.3  0.134   29      0\n",
      "8      2   197    70    45   543  30.5  0.158   53      1\n",
      "9      8   125    96     0     0   0.0  0.232   54      1\n",
      "10     4   110    92     0     0  37.6  0.191   30      0\n",
      "11    10   168    74     0     0  38.0  0.537   34      1\n",
      "12    10   139    80     0     0  27.1  1.441   57      0\n",
      "13     1   189    60    23   846  30.1  0.398   59      1\n",
      "14     5   166    72    19   175  25.8  0.587   51      1\n",
      "15     7   100     0     0     0  30.0  0.484   32      1\n",
      "16     0   118    84    47   230  45.8  0.551   31      1\n",
      "17     7   107    74     0     0  29.6  0.254   31      1\n",
      "18     1   103    30    38    83  43.3  0.183   33      0\n",
      "19     1   115    70    30    96  34.6  0.529   32      1\n"
     ]
    }
   ],
   "source": [
    "print(dataset.head(20))"
   ]
  },
  {
   "cell_type": "markdown",
   "metadata": {},
   "source": [
    "# The first model"
   ]
  },
  {
   "cell_type": "markdown",
   "metadata": {
    "collapsed": true
   },
   "source": [
    "![title](img/MLP1.PNG)"
   ]
  },
  {
   "cell_type": "code",
   "execution_count": 5,
   "metadata": {
    "collapsed": false
   },
   "outputs": [
    {
     "name": "stderr",
     "output_type": "stream",
     "text": [
      "Using TensorFlow backend.\n"
     ]
    }
   ],
   "source": [
    "from keras.models import Sequential\n",
    "from keras.layers import Dense\n",
    "import numpy as np"
   ]
  },
  {
   "cell_type": "code",
   "execution_count": 6,
   "metadata": {
    "collapsed": false
   },
   "outputs": [],
   "source": [
    "seed = 7\n",
    "np.random.seed(seed)"
   ]
  },
  {
   "cell_type": "code",
   "execution_count": 7,
   "metadata": {
    "collapsed": true
   },
   "outputs": [],
   "source": [
    "array = dataset.values\n",
    "X = array[:,0:8]\n",
    "Y = array[:,8]"
   ]
  },
  {
   "cell_type": "code",
   "execution_count": 8,
   "metadata": {
    "collapsed": true
   },
   "outputs": [],
   "source": [
    "# create model\n",
    "model = Sequential()\n",
    "model.add(Dense(12, input_dim=8, init='uniform', activation='relu'))\n",
    "model.add(Dense(8, init='uniform', activation='relu'))\n",
    "model.add(Dense(1, init='uniform', activation='sigmoid'))"
   ]
  },
  {
   "cell_type": "code",
   "execution_count": 9,
   "metadata": {
    "collapsed": false
   },
   "outputs": [],
   "source": [
    "# compile model\n",
    "model.compile(loss='binary_crossentropy',optimizer='adam',metrics=['accuracy'])"
   ]
  },
  {
   "cell_type": "code",
   "execution_count": 10,
   "metadata": {
    "collapsed": false
   },
   "outputs": [
    {
     "data": {
      "text/plain": [
       "<keras.callbacks.History at 0x7fa5e9f5dfd0>"
      ]
     },
     "execution_count": 10,
     "metadata": {},
     "output_type": "execute_result"
    }
   ],
   "source": [
    "# fit model\n",
    "model.fit(X, Y, nb_epoch=150, batch_size=10,verbose=0)"
   ]
  },
  {
   "cell_type": "code",
   "execution_count": 11,
   "metadata": {
    "collapsed": false
   },
   "outputs": [
    {
     "name": "stdout",
     "output_type": "stream",
     "text": [
      "480/768 [=================>............] - ETA: 0sacc: 76.95%\n"
     ]
    }
   ],
   "source": [
    "# evaluate model\n",
    "scores = model.evaluate(X,Y)\n",
    "print(\"%s: %.2f%%\" % (model.metrics_names[1], scores[1]*100))"
   ]
  },
  {
   "cell_type": "markdown",
   "metadata": {
    "collapsed": true
   },
   "source": [
    "# Use a validation dataset"
   ]
  },
  {
   "cell_type": "code",
   "execution_count": 12,
   "metadata": {
    "collapsed": false
   },
   "outputs": [
    {
     "name": "stderr",
     "output_type": "stream",
     "text": [
      "/home/huihu/.local/lib/python2.7/site-packages/sklearn/cross_validation.py:44: DeprecationWarning: This module was deprecated in version 0.18 in favor of the model_selection module into which all the refactored classes and functions are moved. Also note that the interface of the new CV iterators are different from that of this module. This module will be removed in 0.20.\n",
      "  \"This module will be removed in 0.20.\", DeprecationWarning)\n"
     ]
    }
   ],
   "source": [
    "from sklearn import cross_validation"
   ]
  },
  {
   "cell_type": "code",
   "execution_count": 13,
   "metadata": {
    "collapsed": true
   },
   "outputs": [],
   "source": [
    "array = dataset.values\n",
    "X = array[:,0:8]\n",
    "Y = array[:,8]\n",
    "\n",
    "validation_size = 0.20\n",
    "X_train, X_test, Y_train, Y_test = cross_validation.train_test_split(X, Y, test_size=validation_size, random_state=seed)"
   ]
  },
  {
   "cell_type": "code",
   "execution_count": 14,
   "metadata": {
    "collapsed": true
   },
   "outputs": [],
   "source": [
    "# create model\n",
    "model = Sequential()\n",
    "model.add(Dense(12, input_dim=8, init='uniform', activation='relu'))\n",
    "model.add(Dense(8, init='uniform', activation='relu'))\n",
    "model.add(Dense(1, init='uniform', activation='sigmoid'))"
   ]
  },
  {
   "cell_type": "code",
   "execution_count": 15,
   "metadata": {
    "collapsed": true
   },
   "outputs": [],
   "source": [
    "# compile model\n",
    "model.compile(loss='binary_crossentropy',optimizer='adam',metrics=['accuracy'])"
   ]
  },
  {
   "cell_type": "code",
   "execution_count": 16,
   "metadata": {
    "collapsed": false
   },
   "outputs": [
    {
     "name": "stdout",
     "output_type": "stream",
     "text": [
      "Train on 614 samples, validate on 154 samples\n",
      "Epoch 1/150\n",
      "614/614 [==============================] - 0s - loss: 0.6793 - acc: 0.6547 - val_loss: 0.6762 - val_acc: 0.6299\n",
      "Epoch 2/150\n",
      "614/614 [==============================] - 0s - loss: 0.6611 - acc: 0.6564 - val_loss: 0.6595 - val_acc: 0.6299\n",
      "Epoch 3/150\n",
      "614/614 [==============================] - 0s - loss: 0.6457 - acc: 0.6564 - val_loss: 0.6386 - val_acc: 0.6234\n",
      "Epoch 4/150\n",
      "614/614 [==============================] - 0s - loss: 0.6297 - acc: 0.6596 - val_loss: 0.6212 - val_acc: 0.6558\n",
      "Epoch 5/150\n",
      "614/614 [==============================] - 0s - loss: 0.6238 - acc: 0.6743 - val_loss: 0.6162 - val_acc: 0.7468\n",
      "Epoch 6/150\n",
      "614/614 [==============================] - 0s - loss: 0.6142 - acc: 0.6678 - val_loss: 0.6193 - val_acc: 0.6558\n",
      "Epoch 7/150\n",
      "614/614 [==============================] - 0s - loss: 0.6006 - acc: 0.6726 - val_loss: 0.6013 - val_acc: 0.7403\n",
      "Epoch 8/150\n",
      "614/614 [==============================] - 0s - loss: 0.6101 - acc: 0.6743 - val_loss: 0.5945 - val_acc: 0.6883\n",
      "Epoch 9/150\n",
      "614/614 [==============================] - 0s - loss: 0.5964 - acc: 0.6726 - val_loss: 0.5895 - val_acc: 0.7532\n",
      "Epoch 10/150\n",
      "614/614 [==============================] - 0s - loss: 0.5968 - acc: 0.6857 - val_loss: 0.5899 - val_acc: 0.7208\n",
      "Epoch 11/150\n",
      "614/614 [==============================] - 0s - loss: 0.5909 - acc: 0.6840 - val_loss: 0.5954 - val_acc: 0.7468\n",
      "Epoch 12/150\n",
      "614/614 [==============================] - 0s - loss: 0.5922 - acc: 0.6759 - val_loss: 0.5847 - val_acc: 0.7013\n",
      "Epoch 13/150\n",
      "614/614 [==============================] - 0s - loss: 0.5944 - acc: 0.7003 - val_loss: 0.5863 - val_acc: 0.7208\n",
      "Epoch 14/150\n",
      "614/614 [==============================] - 0s - loss: 0.5916 - acc: 0.6938 - val_loss: 0.5817 - val_acc: 0.7468\n",
      "Epoch 15/150\n",
      "614/614 [==============================] - 0s - loss: 0.5859 - acc: 0.6792 - val_loss: 0.6264 - val_acc: 0.6558\n",
      "Epoch 16/150\n",
      "614/614 [==============================] - 0s - loss: 0.5833 - acc: 0.6889 - val_loss: 0.5830 - val_acc: 0.6948\n",
      "Epoch 17/150\n",
      "614/614 [==============================] - 0s - loss: 0.5777 - acc: 0.6987 - val_loss: 0.5885 - val_acc: 0.7338\n",
      "Epoch 18/150\n",
      "614/614 [==============================] - 0s - loss: 0.5806 - acc: 0.6857 - val_loss: 0.5862 - val_acc: 0.6818\n",
      "Epoch 19/150\n",
      "614/614 [==============================] - 0s - loss: 0.5743 - acc: 0.7036 - val_loss: 0.5831 - val_acc: 0.7078\n",
      "Epoch 20/150\n",
      "614/614 [==============================] - 0s - loss: 0.5741 - acc: 0.7003 - val_loss: 0.5801 - val_acc: 0.7143\n",
      "Epoch 21/150\n",
      "614/614 [==============================] - 0s - loss: 0.5742 - acc: 0.7101 - val_loss: 0.6052 - val_acc: 0.6623\n",
      "Epoch 22/150\n",
      "614/614 [==============================] - 0s - loss: 0.5718 - acc: 0.7199 - val_loss: 0.5798 - val_acc: 0.7727\n",
      "Epoch 23/150\n",
      "614/614 [==============================] - 0s - loss: 0.5726 - acc: 0.6922 - val_loss: 0.5721 - val_acc: 0.7403\n",
      "Epoch 24/150\n",
      "614/614 [==============================] - 0s - loss: 0.5688 - acc: 0.7101 - val_loss: 0.5700 - val_acc: 0.7013\n",
      "Epoch 25/150\n",
      "614/614 [==============================] - 0s - loss: 0.5683 - acc: 0.7068 - val_loss: 0.5785 - val_acc: 0.7338\n",
      "Epoch 26/150\n",
      "614/614 [==============================] - 0s - loss: 0.5733 - acc: 0.7134 - val_loss: 0.5763 - val_acc: 0.7273\n",
      "Epoch 27/150\n",
      "614/614 [==============================] - 0s - loss: 0.5768 - acc: 0.6938 - val_loss: 0.5712 - val_acc: 0.7273\n",
      "Epoch 28/150\n",
      "614/614 [==============================] - 0s - loss: 0.5676 - acc: 0.7085 - val_loss: 0.5746 - val_acc: 0.7143\n",
      "Epoch 29/150\n",
      "614/614 [==============================] - 0s - loss: 0.5599 - acc: 0.7020 - val_loss: 0.5752 - val_acc: 0.7013\n",
      "Epoch 30/150\n",
      "614/614 [==============================] - 0s - loss: 0.5655 - acc: 0.7036 - val_loss: 0.5773 - val_acc: 0.7143\n",
      "Epoch 31/150\n",
      "614/614 [==============================] - 0s - loss: 0.5566 - acc: 0.7101 - val_loss: 0.5669 - val_acc: 0.7403\n",
      "Epoch 32/150\n",
      "614/614 [==============================] - 0s - loss: 0.5574 - acc: 0.7166 - val_loss: 0.5712 - val_acc: 0.7468\n",
      "Epoch 33/150\n",
      "614/614 [==============================] - 0s - loss: 0.5538 - acc: 0.7199 - val_loss: 0.5786 - val_acc: 0.7078\n",
      "Epoch 34/150\n",
      "614/614 [==============================] - 0s - loss: 0.5488 - acc: 0.7296 - val_loss: 0.5774 - val_acc: 0.7208\n",
      "Epoch 35/150\n",
      "614/614 [==============================] - 0s - loss: 0.5505 - acc: 0.7134 - val_loss: 0.5635 - val_acc: 0.7338\n",
      "Epoch 36/150\n",
      "614/614 [==============================] - 0s - loss: 0.5525 - acc: 0.7296 - val_loss: 0.5737 - val_acc: 0.7273\n",
      "Epoch 37/150\n",
      "614/614 [==============================] - 0s - loss: 0.5487 - acc: 0.7215 - val_loss: 0.5725 - val_acc: 0.7403\n",
      "Epoch 38/150\n",
      "614/614 [==============================] - 0s - loss: 0.5551 - acc: 0.7199 - val_loss: 0.5563 - val_acc: 0.7727\n",
      "Epoch 39/150\n",
      "614/614 [==============================] - 0s - loss: 0.5461 - acc: 0.7215 - val_loss: 0.5675 - val_acc: 0.7338\n",
      "Epoch 40/150\n",
      "614/614 [==============================] - 0s - loss: 0.5586 - acc: 0.7296 - val_loss: 0.5684 - val_acc: 0.7338\n",
      "Epoch 41/150\n",
      "614/614 [==============================] - 0s - loss: 0.5514 - acc: 0.7264 - val_loss: 0.5485 - val_acc: 0.7857\n",
      "Epoch 42/150\n",
      "614/614 [==============================] - 0s - loss: 0.5467 - acc: 0.7231 - val_loss: 0.5505 - val_acc: 0.7273\n",
      "Epoch 43/150\n",
      "614/614 [==============================] - 0s - loss: 0.5478 - acc: 0.7329 - val_loss: 0.5557 - val_acc: 0.7143\n",
      "Epoch 44/150\n",
      "614/614 [==============================] - 0s - loss: 0.5424 - acc: 0.7248 - val_loss: 0.5612 - val_acc: 0.7078\n",
      "Epoch 45/150\n",
      "614/614 [==============================] - 0s - loss: 0.5412 - acc: 0.7231 - val_loss: 0.5471 - val_acc: 0.7468\n",
      "Epoch 46/150\n",
      "614/614 [==============================] - 0s - loss: 0.5404 - acc: 0.7264 - val_loss: 0.5626 - val_acc: 0.7532\n",
      "Epoch 47/150\n",
      "614/614 [==============================] - 0s - loss: 0.5494 - acc: 0.7264 - val_loss: 0.5697 - val_acc: 0.7208\n",
      "Epoch 48/150\n",
      "614/614 [==============================] - 0s - loss: 0.5306 - acc: 0.7508 - val_loss: 0.5635 - val_acc: 0.7338\n",
      "Epoch 49/150\n",
      "614/614 [==============================] - 0s - loss: 0.5312 - acc: 0.7264 - val_loss: 0.5603 - val_acc: 0.7273\n",
      "Epoch 50/150\n",
      "614/614 [==============================] - 0s - loss: 0.5404 - acc: 0.7329 - val_loss: 0.5539 - val_acc: 0.7727\n",
      "Epoch 51/150\n",
      "614/614 [==============================] - 0s - loss: 0.5463 - acc: 0.7313 - val_loss: 0.5400 - val_acc: 0.7532\n",
      "Epoch 52/150\n",
      "614/614 [==============================] - 0s - loss: 0.5279 - acc: 0.7378 - val_loss: 0.5424 - val_acc: 0.7532\n",
      "Epoch 53/150\n",
      "614/614 [==============================] - 0s - loss: 0.5283 - acc: 0.7345 - val_loss: 0.5419 - val_acc: 0.7403\n",
      "Epoch 54/150\n",
      "614/614 [==============================] - 0s - loss: 0.5309 - acc: 0.7329 - val_loss: 0.5356 - val_acc: 0.7468\n",
      "Epoch 55/150\n",
      "614/614 [==============================] - 0s - loss: 0.5368 - acc: 0.7280 - val_loss: 0.5392 - val_acc: 0.7597\n",
      "Epoch 56/150\n",
      "614/614 [==============================] - 0s - loss: 0.5233 - acc: 0.7459 - val_loss: 0.5388 - val_acc: 0.7727\n",
      "Epoch 57/150\n",
      "614/614 [==============================] - 0s - loss: 0.5280 - acc: 0.7443 - val_loss: 0.5564 - val_acc: 0.7403\n",
      "Epoch 58/150\n",
      "614/614 [==============================] - 0s - loss: 0.5310 - acc: 0.7362 - val_loss: 0.5713 - val_acc: 0.7143\n",
      "Epoch 59/150\n",
      "614/614 [==============================] - 0s - loss: 0.5300 - acc: 0.7378 - val_loss: 0.5286 - val_acc: 0.7662\n",
      "Epoch 60/150\n",
      "614/614 [==============================] - 0s - loss: 0.5223 - acc: 0.7394 - val_loss: 0.5381 - val_acc: 0.7597\n",
      "Epoch 61/150\n",
      "614/614 [==============================] - 0s - loss: 0.5136 - acc: 0.7492 - val_loss: 0.6098 - val_acc: 0.6753\n",
      "Epoch 62/150\n",
      "614/614 [==============================] - 0s - loss: 0.5276 - acc: 0.7199 - val_loss: 0.5449 - val_acc: 0.7338\n",
      "Epoch 63/150\n",
      "614/614 [==============================] - 0s - loss: 0.5276 - acc: 0.7362 - val_loss: 0.5315 - val_acc: 0.7597\n",
      "Epoch 64/150\n",
      "614/614 [==============================] - 0s - loss: 0.5150 - acc: 0.7345 - val_loss: 0.5283 - val_acc: 0.7597\n",
      "Epoch 65/150\n",
      "614/614 [==============================] - 0s - loss: 0.5106 - acc: 0.7345 - val_loss: 0.5623 - val_acc: 0.7403\n",
      "Epoch 66/150\n",
      "614/614 [==============================] - 0s - loss: 0.5097 - acc: 0.7492 - val_loss: 0.5548 - val_acc: 0.7468\n",
      "Epoch 67/150\n",
      "614/614 [==============================] - 0s - loss: 0.5116 - acc: 0.7443 - val_loss: 0.5334 - val_acc: 0.7532\n",
      "Epoch 68/150\n",
      "614/614 [==============================] - 0s - loss: 0.5190 - acc: 0.7329 - val_loss: 0.5230 - val_acc: 0.7597\n",
      "Epoch 69/150\n",
      "614/614 [==============================] - 0s - loss: 0.5057 - acc: 0.7443 - val_loss: 0.5373 - val_acc: 0.7403\n",
      "Epoch 70/150\n",
      "614/614 [==============================] - 0s - loss: 0.5134 - acc: 0.7427 - val_loss: 0.5198 - val_acc: 0.7597\n",
      "Epoch 71/150\n",
      "614/614 [==============================] - 0s - loss: 0.5104 - acc: 0.7362 - val_loss: 0.5395 - val_acc: 0.7532\n",
      "Epoch 72/150\n",
      "614/614 [==============================] - 0s - loss: 0.5039 - acc: 0.7573 - val_loss: 0.5210 - val_acc: 0.7922\n",
      "Epoch 73/150\n",
      "614/614 [==============================] - 0s - loss: 0.5081 - acc: 0.7410 - val_loss: 0.5562 - val_acc: 0.7338\n",
      "Epoch 74/150\n",
      "614/614 [==============================] - 0s - loss: 0.5027 - acc: 0.7459 - val_loss: 0.5127 - val_acc: 0.7792\n",
      "Epoch 75/150\n",
      "614/614 [==============================] - 0s - loss: 0.5039 - acc: 0.7541 - val_loss: 0.5210 - val_acc: 0.7662\n",
      "Epoch 76/150\n",
      "614/614 [==============================] - 0s - loss: 0.4979 - acc: 0.7443 - val_loss: 0.5312 - val_acc: 0.7338\n",
      "Epoch 77/150\n",
      "614/614 [==============================] - 0s - loss: 0.5111 - acc: 0.7459 - val_loss: 0.5514 - val_acc: 0.7597\n",
      "Epoch 78/150\n",
      "614/614 [==============================] - 0s - loss: 0.5047 - acc: 0.7573 - val_loss: 0.5159 - val_acc: 0.7532\n",
      "Epoch 79/150\n",
      "614/614 [==============================] - 0s - loss: 0.4965 - acc: 0.7638 - val_loss: 0.5374 - val_acc: 0.7597\n",
      "Epoch 80/150\n",
      "614/614 [==============================] - 0s - loss: 0.5060 - acc: 0.7362 - val_loss: 0.5204 - val_acc: 0.7662\n",
      "Epoch 81/150\n",
      "614/614 [==============================] - 0s - loss: 0.5009 - acc: 0.7394 - val_loss: 0.5131 - val_acc: 0.7792\n",
      "Epoch 82/150\n",
      "614/614 [==============================] - 0s - loss: 0.5160 - acc: 0.7590 - val_loss: 0.5060 - val_acc: 0.7792\n",
      "Epoch 83/150\n",
      "614/614 [==============================] - 0s - loss: 0.4951 - acc: 0.7362 - val_loss: 0.5129 - val_acc: 0.7922\n",
      "Epoch 84/150\n",
      "614/614 [==============================] - 0s - loss: 0.4975 - acc: 0.7541 - val_loss: 0.5148 - val_acc: 0.7857\n",
      "Epoch 85/150\n",
      "614/614 [==============================] - 0s - loss: 0.4963 - acc: 0.7622 - val_loss: 0.5302 - val_acc: 0.7532\n",
      "Epoch 86/150\n",
      "614/614 [==============================] - 0s - loss: 0.4976 - acc: 0.7443 - val_loss: 0.5213 - val_acc: 0.7662\n",
      "Epoch 87/150\n",
      "614/614 [==============================] - 0s - loss: 0.4877 - acc: 0.7492 - val_loss: 0.5207 - val_acc: 0.7857\n",
      "Epoch 88/150\n",
      "614/614 [==============================] - 0s - loss: 0.4908 - acc: 0.7590 - val_loss: 0.5227 - val_acc: 0.7662\n",
      "Epoch 89/150\n",
      "614/614 [==============================] - 0s - loss: 0.4930 - acc: 0.7459 - val_loss: 0.5185 - val_acc: 0.7468\n",
      "Epoch 90/150\n",
      "614/614 [==============================] - 0s - loss: 0.4875 - acc: 0.7476 - val_loss: 0.5096 - val_acc: 0.7987\n",
      "Epoch 91/150\n",
      "614/614 [==============================] - 0s - loss: 0.4907 - acc: 0.7541 - val_loss: 0.5092 - val_acc: 0.7727\n",
      "Epoch 92/150\n",
      "614/614 [==============================] - 0s - loss: 0.4839 - acc: 0.7541 - val_loss: 0.5076 - val_acc: 0.7857\n",
      "Epoch 93/150\n",
      "614/614 [==============================] - 0s - loss: 0.4883 - acc: 0.7606 - val_loss: 0.4998 - val_acc: 0.7792\n",
      "Epoch 94/150\n",
      "614/614 [==============================] - 0s - loss: 0.4856 - acc: 0.7541 - val_loss: 0.5228 - val_acc: 0.7857\n",
      "Epoch 95/150\n",
      "614/614 [==============================] - 0s - loss: 0.4963 - acc: 0.7573 - val_loss: 0.5172 - val_acc: 0.7662\n",
      "Epoch 96/150\n",
      "614/614 [==============================] - 0s - loss: 0.4906 - acc: 0.7541 - val_loss: 0.5514 - val_acc: 0.7468\n",
      "Epoch 97/150\n",
      "614/614 [==============================] - 0s - loss: 0.4833 - acc: 0.7541 - val_loss: 0.5153 - val_acc: 0.7597\n",
      "Epoch 98/150\n",
      "614/614 [==============================] - 0s - loss: 0.4821 - acc: 0.7524 - val_loss: 0.5016 - val_acc: 0.7987\n",
      "Epoch 99/150\n",
      "614/614 [==============================] - 0s - loss: 0.4816 - acc: 0.7508 - val_loss: 0.5200 - val_acc: 0.7532\n",
      "Epoch 100/150\n",
      "614/614 [==============================] - 0s - loss: 0.4829 - acc: 0.7606 - val_loss: 0.5253 - val_acc: 0.7662\n",
      "Epoch 101/150\n",
      "614/614 [==============================] - 0s - loss: 0.4752 - acc: 0.7573 - val_loss: 0.5138 - val_acc: 0.7792\n",
      "Epoch 102/150\n",
      "614/614 [==============================] - 0s - loss: 0.4716 - acc: 0.7671 - val_loss: 0.5177 - val_acc: 0.7727\n",
      "Epoch 103/150\n",
      "614/614 [==============================] - 0s - loss: 0.4721 - acc: 0.7508 - val_loss: 0.5430 - val_acc: 0.7662\n",
      "Epoch 104/150\n",
      "614/614 [==============================] - 0s - loss: 0.4780 - acc: 0.7541 - val_loss: 0.5049 - val_acc: 0.8182\n",
      "Epoch 105/150\n",
      "614/614 [==============================] - 0s - loss: 0.4698 - acc: 0.7687 - val_loss: 0.5069 - val_acc: 0.7727\n",
      "Epoch 106/150\n",
      "614/614 [==============================] - 0s - loss: 0.4762 - acc: 0.7671 - val_loss: 0.5146 - val_acc: 0.7792\n",
      "Epoch 107/150\n",
      "614/614 [==============================] - 0s - loss: 0.4734 - acc: 0.7524 - val_loss: 0.4920 - val_acc: 0.8182\n",
      "Epoch 108/150\n",
      "614/614 [==============================] - 0s - loss: 0.4673 - acc: 0.7769 - val_loss: 0.5044 - val_acc: 0.7857\n",
      "Epoch 109/150\n",
      "614/614 [==============================] - 0s - loss: 0.4711 - acc: 0.7541 - val_loss: 0.5034 - val_acc: 0.7922\n",
      "Epoch 110/150\n",
      "614/614 [==============================] - 0s - loss: 0.4650 - acc: 0.7736 - val_loss: 0.5176 - val_acc: 0.7662\n",
      "Epoch 111/150\n",
      "614/614 [==============================] - 0s - loss: 0.4706 - acc: 0.7508 - val_loss: 0.5032 - val_acc: 0.8117\n",
      "Epoch 112/150\n",
      "614/614 [==============================] - 0s - loss: 0.4806 - acc: 0.7459 - val_loss: 0.5369 - val_acc: 0.7597\n",
      "Epoch 113/150\n",
      "614/614 [==============================] - 0s - loss: 0.4787 - acc: 0.7606 - val_loss: 0.5144 - val_acc: 0.7727\n",
      "Epoch 114/150\n",
      "614/614 [==============================] - 0s - loss: 0.4708 - acc: 0.7687 - val_loss: 0.5138 - val_acc: 0.8052\n",
      "Epoch 115/150\n",
      "614/614 [==============================] - 0s - loss: 0.4628 - acc: 0.7736 - val_loss: 0.5029 - val_acc: 0.7857\n",
      "Epoch 116/150\n",
      "614/614 [==============================] - 0s - loss: 0.4677 - acc: 0.7590 - val_loss: 0.4962 - val_acc: 0.7792\n",
      "Epoch 117/150\n",
      "614/614 [==============================] - 0s - loss: 0.4645 - acc: 0.7622 - val_loss: 0.4857 - val_acc: 0.8052\n",
      "Epoch 118/150\n",
      "614/614 [==============================] - 0s - loss: 0.4929 - acc: 0.7476 - val_loss: 0.4978 - val_acc: 0.7922\n",
      "Epoch 119/150\n",
      "614/614 [==============================] - 0s - loss: 0.4736 - acc: 0.7655 - val_loss: 0.4937 - val_acc: 0.8117\n",
      "Epoch 120/150\n",
      "614/614 [==============================] - 0s - loss: 0.4695 - acc: 0.7638 - val_loss: 0.4990 - val_acc: 0.8052\n",
      "Epoch 121/150\n",
      "614/614 [==============================] - 0s - loss: 0.4627 - acc: 0.7622 - val_loss: 0.5071 - val_acc: 0.7922\n",
      "Epoch 122/150\n",
      "614/614 [==============================] - 0s - loss: 0.4707 - acc: 0.7638 - val_loss: 0.5031 - val_acc: 0.7922\n",
      "Epoch 123/150\n",
      "614/614 [==============================] - 0s - loss: 0.4730 - acc: 0.7687 - val_loss: 0.4880 - val_acc: 0.8182\n",
      "Epoch 124/150\n",
      "614/614 [==============================] - 0s - loss: 0.4610 - acc: 0.7785 - val_loss: 0.5110 - val_acc: 0.7597\n",
      "Epoch 125/150\n",
      "614/614 [==============================] - 0s - loss: 0.4645 - acc: 0.7606 - val_loss: 0.4981 - val_acc: 0.7727\n",
      "Epoch 126/150\n",
      "614/614 [==============================] - 0s - loss: 0.4600 - acc: 0.7769 - val_loss: 0.5023 - val_acc: 0.7857\n",
      "Epoch 127/150\n",
      "614/614 [==============================] - 0s - loss: 0.4613 - acc: 0.7638 - val_loss: 0.5027 - val_acc: 0.8052\n",
      "Epoch 128/150\n",
      "614/614 [==============================] - 0s - loss: 0.4566 - acc: 0.7606 - val_loss: 0.4847 - val_acc: 0.8052\n",
      "Epoch 129/150\n",
      "614/614 [==============================] - 0s - loss: 0.4589 - acc: 0.7736 - val_loss: 0.5019 - val_acc: 0.7987\n",
      "Epoch 130/150\n",
      "614/614 [==============================] - 0s - loss: 0.4544 - acc: 0.7655 - val_loss: 0.5128 - val_acc: 0.7727\n",
      "Epoch 131/150\n",
      "614/614 [==============================] - 0s - loss: 0.4520 - acc: 0.7752 - val_loss: 0.4924 - val_acc: 0.7987\n",
      "Epoch 132/150\n",
      "614/614 [==============================] - 0s - loss: 0.4588 - acc: 0.7638 - val_loss: 0.5250 - val_acc: 0.7532\n",
      "Epoch 133/150\n",
      "614/614 [==============================] - 0s - loss: 0.4456 - acc: 0.7801 - val_loss: 0.5158 - val_acc: 0.7727\n",
      "Epoch 134/150\n",
      "614/614 [==============================] - 0s - loss: 0.4565 - acc: 0.7866 - val_loss: 0.4991 - val_acc: 0.7987\n",
      "Epoch 135/150\n",
      "614/614 [==============================] - 0s - loss: 0.4519 - acc: 0.7655 - val_loss: 0.5041 - val_acc: 0.8052\n",
      "Epoch 136/150\n",
      "614/614 [==============================] - 0s - loss: 0.4540 - acc: 0.7687 - val_loss: 0.5192 - val_acc: 0.7727\n",
      "Epoch 137/150\n",
      "614/614 [==============================] - 0s - loss: 0.4599 - acc: 0.7769 - val_loss: 0.4801 - val_acc: 0.8182\n",
      "Epoch 138/150\n",
      "614/614 [==============================] - 0s - loss: 0.4516 - acc: 0.7736 - val_loss: 0.4958 - val_acc: 0.7922\n",
      "Epoch 139/150\n",
      "614/614 [==============================] - 0s - loss: 0.4510 - acc: 0.7736 - val_loss: 0.4930 - val_acc: 0.7987\n",
      "Epoch 140/150\n",
      "614/614 [==============================] - 0s - loss: 0.4542 - acc: 0.7687 - val_loss: 0.5081 - val_acc: 0.7727\n",
      "Epoch 141/150\n",
      "614/614 [==============================] - 0s - loss: 0.4540 - acc: 0.7590 - val_loss: 0.5058 - val_acc: 0.7662\n",
      "Epoch 142/150\n",
      "614/614 [==============================] - 0s - loss: 0.4729 - acc: 0.7801 - val_loss: 0.5184 - val_acc: 0.7597\n",
      "Epoch 143/150\n",
      "614/614 [==============================] - 0s - loss: 0.4410 - acc: 0.7834 - val_loss: 0.5040 - val_acc: 0.7727\n",
      "Epoch 144/150\n",
      "614/614 [==============================] - 0s - loss: 0.4476 - acc: 0.7834 - val_loss: 0.5487 - val_acc: 0.7597\n",
      "Epoch 145/150\n",
      "614/614 [==============================] - 0s - loss: 0.4522 - acc: 0.7655 - val_loss: 0.4948 - val_acc: 0.8117\n",
      "Epoch 146/150\n",
      "614/614 [==============================] - 0s - loss: 0.4468 - acc: 0.7720 - val_loss: 0.4971 - val_acc: 0.8182\n",
      "Epoch 147/150\n",
      "614/614 [==============================] - 0s - loss: 0.4474 - acc: 0.7866 - val_loss: 0.4930 - val_acc: 0.8052\n",
      "Epoch 148/150\n",
      "614/614 [==============================] - 0s - loss: 0.4442 - acc: 0.7834 - val_loss: 0.4885 - val_acc: 0.8117\n",
      "Epoch 149/150\n",
      "614/614 [==============================] - 0s - loss: 0.4515 - acc: 0.7736 - val_loss: 0.4881 - val_acc: 0.7987\n",
      "Epoch 150/150\n",
      "614/614 [==============================] - 0s - loss: 0.4430 - acc: 0.7899 - val_loss: 0.5106 - val_acc: 0.7532\n"
     ]
    },
    {
     "data": {
      "text/plain": [
       "<keras.callbacks.History at 0x7fa5c97326d0>"
      ]
     },
     "execution_count": 16,
     "metadata": {},
     "output_type": "execute_result"
    }
   ],
   "source": [
    "# fit model\n",
    "model.fit(X_train, Y_train, validation_data=(X_test,Y_test), nb_epoch=150, batch_size=10)"
   ]
  },
  {
   "cell_type": "markdown",
   "metadata": {},
   "source": [
    "# Manual k-Fold CV"
   ]
  },
  {
   "cell_type": "code",
   "execution_count": 17,
   "metadata": {
    "collapsed": true
   },
   "outputs": [],
   "source": [
    "from sklearn.model_selection import StratifiedKFold"
   ]
  },
  {
   "cell_type": "code",
   "execution_count": 18,
   "metadata": {
    "collapsed": true
   },
   "outputs": [],
   "source": [
    "# define 4-fold cross validation test harness\n",
    "kfold = StratifiedKFold(n_splits=4, shuffle=True, random_state=seed)\n",
    "cvscores = []"
   ]
  },
  {
   "cell_type": "code",
   "execution_count": 19,
   "metadata": {
    "collapsed": false
   },
   "outputs": [
    {
     "name": "stdout",
     "output_type": "stream",
     "text": [
      "acc: 72.92%\n",
      "acc: 84.38%\n",
      "acc: 73.44%\n",
      "acc: 73.44%\n"
     ]
    }
   ],
   "source": [
    "for train, test in kfold.split(X, Y):\n",
    "    # create model\n",
    "    model = Sequential()\n",
    "    model.add(Dense(12, input_dim=8, init= 'uniform' , activation= 'relu' ))\n",
    "    model.add(Dense(8, init= 'uniform' , activation= 'relu' ))\n",
    "    model.add(Dense(1, init= 'uniform' , activation= 'sigmoid' ))\n",
    "    # Compile model\n",
    "    model.compile(loss= 'binary_crossentropy' , optimizer= 'adam' , metrics=['accuracy'])\n",
    "    # Fit the model\n",
    "    model.fit(X[train], Y[train], nb_epoch=150, batch_size=10, verbose=0)\n",
    "    # evaluate the model\n",
    "    scores = model.evaluate(X[test], Y[test], verbose=0)\n",
    "    print(\"%s: %.2f%%\" % (model.metrics_names[1], scores[1]*100))\n",
    "    cvscores.append(scores[1] * 100)"
   ]
  },
  {
   "cell_type": "code",
   "execution_count": 20,
   "metadata": {
    "collapsed": false
   },
   "outputs": [
    {
     "name": "stdout",
     "output_type": "stream",
     "text": [
      "76.04% (+/- 4.82%)\n"
     ]
    }
   ],
   "source": [
    "print(\"%.2f%% (+/- %.2f%%)\" % (np.mean(cvscores), np.std(cvscores)))"
   ]
  },
  {
   "cell_type": "markdown",
   "metadata": {},
   "source": [
    "# Tune Hyperparameters using Grid Search"
   ]
  },
  {
   "cell_type": "code",
   "execution_count": 21,
   "metadata": {
    "collapsed": true
   },
   "outputs": [],
   "source": [
    "from keras.wrappers.scikit_learn import KerasClassifier\n",
    "from sklearn.model_selection import GridSearchCV\n",
    "from sklearn.preprocessing import StandardScaler"
   ]
  },
  {
   "cell_type": "code",
   "execution_count": 22,
   "metadata": {
    "collapsed": true
   },
   "outputs": [],
   "source": [
    "validation_size = 0.20\n",
    "X_train, X_test, Y_train, Y_test = cross_validation.train_test_split(X, Y, test_size=validation_size, random_state=seed)"
   ]
  },
  {
   "cell_type": "code",
   "execution_count": 23,
   "metadata": {
    "collapsed": false
   },
   "outputs": [],
   "source": [
    "scaler = StandardScaler().fit(X_train)\n",
    "rescaledX_train = scaler.transform(X_train)"
   ]
  },
  {
   "cell_type": "code",
   "execution_count": 24,
   "metadata": {
    "collapsed": true
   },
   "outputs": [],
   "source": [
    "# Function to create model, required for KerasClassifier\n",
    "def create_model(optimizer= 'rmsprop' , init= 'uniform' ):\n",
    "    # create model\n",
    "    model = Sequential()\n",
    "    model.add(Dense(12, input_dim=8, init=init, activation= 'relu' ))\n",
    "    model.add(Dense(8, init=init, activation= 'relu' ))\n",
    "    model.add(Dense(1, init=init, activation= 'sigmoid' ))\n",
    "    # Compile model\n",
    "    model.compile(loss= 'binary_crossentropy' , optimizer=optimizer, metrics=[ 'accuracy' ])\n",
    "    return model"
   ]
  },
  {
   "cell_type": "code",
   "execution_count": 25,
   "metadata": {
    "collapsed": true
   },
   "outputs": [],
   "source": [
    "# create model\n",
    "model = KerasClassifier(build_fn=create_model, verbose=0)"
   ]
  },
  {
   "cell_type": "code",
   "execution_count": 26,
   "metadata": {
    "collapsed": false
   },
   "outputs": [],
   "source": [
    "# grid search epochs, batch size and optimizer\n",
    "optimizers = ['rmsprop','adam']\n",
    "init = ['normal','uniform']\n",
    "epochs = np.array([150])\n",
    "batches = np.array([10])\n",
    "param_grid = dict(optimizer=optimizers, nb_epoch=epochs, batch_size=batches, init=init)\n",
    "grid = GridSearchCV(estimator=model, param_grid=param_grid)\n",
    "grid_result = grid.fit(rescaledX_train, Y_train)"
   ]
  },
  {
   "cell_type": "code",
   "execution_count": 27,
   "metadata": {
    "collapsed": false
   },
   "outputs": [
    {
     "name": "stdout",
     "output_type": "stream",
     "text": [
      "Best: 0.771987 using {'init': 'uniform', 'optimizer': 'adam', 'nb_epoch': 150, 'batch_size': 10}\n"
     ]
    }
   ],
   "source": [
    "print(\"Best: %f using %s\" % (grid_result.best_score_, grid_result.best_params_))"
   ]
  },
  {
   "cell_type": "code",
   "execution_count": 28,
   "metadata": {
    "collapsed": false
   },
   "outputs": [
    {
     "name": "stdout",
     "output_type": "stream",
     "text": [
      "0.758967 (0.012619) with: {'init': 'normal', 'optimizer': 'rmsprop', 'nb_epoch': 150, 'batch_size': 10}\n",
      "0.754097 (0.016219) with: {'init': 'normal', 'optimizer': 'adam', 'nb_epoch': 150, 'batch_size': 10}\n",
      "0.755723 (0.010018) with: {'init': 'uniform', 'optimizer': 'rmsprop', 'nb_epoch': 150, 'batch_size': 10}\n",
      "0.772015 (0.015719) with: {'init': 'uniform', 'optimizer': 'adam', 'nb_epoch': 150, 'batch_size': 10}\n"
     ]
    },
    {
     "name": "stderr",
     "output_type": "stream",
     "text": [
      "/home/huihu/.local/lib/python2.7/site-packages/sklearn/model_selection/_search.py:662: DeprecationWarning: The grid_scores_ attribute was deprecated in version 0.18 in favor of the more elaborate cv_results_ attribute. The grid_scores_ attribute will not be available from 0.20\n",
      "  DeprecationWarning)\n"
     ]
    }
   ],
   "source": [
    "for params, mean_score, scores in grid_result.grid_scores_:\n",
    "    print(\"%f (%f) with: %r\" % (scores.mean(), scores.std(), params))"
   ]
  },
  {
   "cell_type": "markdown",
   "metadata": {
    "collapsed": true
   },
   "source": [
    "# Multiclass Classification"
   ]
  },
  {
   "cell_type": "markdown",
   "metadata": {},
   "source": [
    "## Download Iris Flowers Dataset"
   ]
  },
  {
   "cell_type": "markdown",
   "metadata": {},
   "source": [
    "1. sepal length in cm\n",
    "2. sepal width in cm\n",
    "3. petal length in cm\n",
    "4. petal width in cm\n",
    "5. class:\n",
    "-- Iris Setosa\n",
    "-- Iris Versicolour\n",
    "-- Iris Virginica"
   ]
  },
  {
   "cell_type": "code",
   "execution_count": 29,
   "metadata": {
    "collapsed": true
   },
   "outputs": [],
   "source": [
    "url = \"https://archive.ics.uci.edu/ml/machine-learning-databases/iris/iris.data\"\n",
    "names = ['seplen', 'sepwid', 'petlen', 'petwid', 'class']\n",
    "iris = pd.read_csv(url, names=names)"
   ]
  },
  {
   "cell_type": "code",
   "execution_count": 31,
   "metadata": {
    "collapsed": false
   },
   "outputs": [
    {
     "name": "stdout",
     "output_type": "stream",
     "text": [
      "(150, 5)\n",
      "seplen    float64\n",
      "sepwid    float64\n",
      "petlen    float64\n",
      "petwid    float64\n",
      "class      object\n",
      "dtype: object\n"
     ]
    },
    {
     "data": {
      "text/html": [
       "<div>\n",
       "<table border=\"1\" class=\"dataframe\">\n",
       "  <thead>\n",
       "    <tr style=\"text-align: right;\">\n",
       "      <th></th>\n",
       "      <th>seplen</th>\n",
       "      <th>sepwid</th>\n",
       "      <th>petlen</th>\n",
       "      <th>petwid</th>\n",
       "      <th>class</th>\n",
       "    </tr>\n",
       "  </thead>\n",
       "  <tbody>\n",
       "    <tr>\n",
       "      <th>0</th>\n",
       "      <td>5.1</td>\n",
       "      <td>3.5</td>\n",
       "      <td>1.4</td>\n",
       "      <td>0.2</td>\n",
       "      <td>Iris-setosa</td>\n",
       "    </tr>\n",
       "    <tr>\n",
       "      <th>1</th>\n",
       "      <td>4.9</td>\n",
       "      <td>3.0</td>\n",
       "      <td>1.4</td>\n",
       "      <td>0.2</td>\n",
       "      <td>Iris-setosa</td>\n",
       "    </tr>\n",
       "    <tr>\n",
       "      <th>2</th>\n",
       "      <td>4.7</td>\n",
       "      <td>3.2</td>\n",
       "      <td>1.3</td>\n",
       "      <td>0.2</td>\n",
       "      <td>Iris-setosa</td>\n",
       "    </tr>\n",
       "    <tr>\n",
       "      <th>3</th>\n",
       "      <td>4.6</td>\n",
       "      <td>3.1</td>\n",
       "      <td>1.5</td>\n",
       "      <td>0.2</td>\n",
       "      <td>Iris-setosa</td>\n",
       "    </tr>\n",
       "    <tr>\n",
       "      <th>4</th>\n",
       "      <td>5.0</td>\n",
       "      <td>3.6</td>\n",
       "      <td>1.4</td>\n",
       "      <td>0.2</td>\n",
       "      <td>Iris-setosa</td>\n",
       "    </tr>\n",
       "  </tbody>\n",
       "</table>\n",
       "</div>"
      ],
      "text/plain": [
       "   seplen  sepwid  petlen  petwid        class\n",
       "0     5.1     3.5     1.4     0.2  Iris-setosa\n",
       "1     4.9     3.0     1.4     0.2  Iris-setosa\n",
       "2     4.7     3.2     1.3     0.2  Iris-setosa\n",
       "3     4.6     3.1     1.5     0.2  Iris-setosa\n",
       "4     5.0     3.6     1.4     0.2  Iris-setosa"
      ]
     },
     "execution_count": 31,
     "metadata": {},
     "output_type": "execute_result"
    }
   ],
   "source": [
    "print(iris.shape)\n",
    "print(iris.dtypes)\n",
    "iris.head()"
   ]
  },
  {
   "cell_type": "code",
   "execution_count": 36,
   "metadata": {
    "collapsed": false
   },
   "outputs": [],
   "source": [
    "X = iris.values[:,0:4].astype(float)\n",
    "Y = iris.values[:,4]"
   ]
  },
  {
   "cell_type": "markdown",
   "metadata": {},
   "source": [
    "## Encode the Outcome"
   ]
  },
  {
   "cell_type": "code",
   "execution_count": 42,
   "metadata": {
    "collapsed": true
   },
   "outputs": [],
   "source": [
    "from sklearn.preprocessing import LabelEncoder\n",
    "from keras.utils import np_utils"
   ]
  },
  {
   "cell_type": "code",
   "execution_count": 45,
   "metadata": {
    "collapsed": false
   },
   "outputs": [
    {
     "data": {
      "text/plain": [
       "array(['Iris-setosa', 'Iris-setosa', 'Iris-setosa', 'Iris-setosa',\n",
       "       'Iris-setosa'], dtype=object)"
      ]
     },
     "execution_count": 45,
     "metadata": {},
     "output_type": "execute_result"
    }
   ],
   "source": [
    "Y[0:5]"
   ]
  },
  {
   "cell_type": "code",
   "execution_count": 40,
   "metadata": {
    "collapsed": true
   },
   "outputs": [],
   "source": [
    "encoder = LabelEncoder()\n",
    "encoder.fit(Y)\n",
    "encoded_Y = encoder.transform(Y)\n",
    "# convert int to dummy variables (one hot encoded)\n",
    "dummy_y = np_utils.to_categorical(encoded_Y)"
   ]
  },
  {
   "cell_type": "code",
   "execution_count": 47,
   "metadata": {
    "collapsed": false
   },
   "outputs": [
    {
     "data": {
      "text/plain": [
       "array([[ 1.,  0.,  0.],\n",
       "       [ 1.,  0.,  0.],\n",
       "       [ 1.,  0.,  0.],\n",
       "       [ 1.,  0.,  0.],\n",
       "       [ 1.,  0.,  0.]])"
      ]
     },
     "execution_count": 47,
     "metadata": {},
     "output_type": "execute_result"
    }
   ],
   "source": [
    "dummy_y[0:5]"
   ]
  },
  {
   "cell_type": "markdown",
   "metadata": {},
   "source": [
    "## Define the NN"
   ]
  },
  {
   "cell_type": "markdown",
   "metadata": {},
   "source": [
    "4 inputs -> [4 hidden nodes] -> 3 outputs"
   ]
  },
  {
   "cell_type": "code",
   "execution_count": 55,
   "metadata": {
    "collapsed": true
   },
   "outputs": [],
   "source": [
    "# define baseline model\n",
    "def baseline_model():\n",
    "    # create model\n",
    "    model = Sequential()\n",
    "    model.add(Dense(4, input_dim=4, init= 'normal' , activation= 'relu' ))\n",
    "    model.add(Dense(3, init= 'normal' , activation= 'sigmoid' ))\n",
    "    # Compile model\n",
    "    model.compile(loss= 'categorical_crossentropy' , optimizer= 'adam' , metrics=[ 'accuracy' ])\n",
    "    return model"
   ]
  },
  {
   "cell_type": "markdown",
   "metadata": {},
   "source": [
    "## Evalute the Model using k-Fold CV"
   ]
  },
  {
   "cell_type": "code",
   "execution_count": 56,
   "metadata": {
    "collapsed": true
   },
   "outputs": [],
   "source": [
    "from sklearn.model_selection import KFold\n",
    "from sklearn.model_selection import cross_val_score"
   ]
  },
  {
   "cell_type": "code",
   "execution_count": 57,
   "metadata": {
    "collapsed": false
   },
   "outputs": [
    {
     "name": "stdout",
     "output_type": "stream",
     "text": [
      "Accuracy: 96.00% (4.42%)\n"
     ]
    }
   ],
   "source": [
    "estimator = KerasClassifier(build_fn=baseline_model, nb_epoch=200, batch_size=5, verbose=0)\n",
    "kfold = KFold(n_splits=10, shuffle=True, random_state=seed)\n",
    "results = cross_val_score(estimator, X, dummy_y, cv=kfold)\n",
    "print(\"Accuracy: %.2f%% (%.2f%%)\" % (results.mean()*100, results.std()*100))"
   ]
  },
  {
   "cell_type": "markdown",
   "metadata": {},
   "source": [
    "# "
   ]
  },
  {
   "cell_type": "code",
   "execution_count": null,
   "metadata": {
    "collapsed": true
   },
   "outputs": [],
   "source": []
  },
  {
   "cell_type": "code",
   "execution_count": null,
   "metadata": {
    "collapsed": true
   },
   "outputs": [],
   "source": []
  },
  {
   "cell_type": "code",
   "execution_count": null,
   "metadata": {
    "collapsed": true
   },
   "outputs": [],
   "source": []
  },
  {
   "cell_type": "code",
   "execution_count": null,
   "metadata": {
    "collapsed": true
   },
   "outputs": [],
   "source": []
  },
  {
   "cell_type": "code",
   "execution_count": null,
   "metadata": {
    "collapsed": true
   },
   "outputs": [],
   "source": []
  },
  {
   "cell_type": "code",
   "execution_count": null,
   "metadata": {
    "collapsed": true
   },
   "outputs": [],
   "source": []
  },
  {
   "cell_type": "code",
   "execution_count": null,
   "metadata": {
    "collapsed": true
   },
   "outputs": [],
   "source": []
  },
  {
   "cell_type": "markdown",
   "metadata": {},
   "source": [
    "## Prepare Data"
   ]
  },
  {
   "cell_type": "code",
   "execution_count": 5,
   "metadata": {
    "collapsed": false
   },
   "outputs": [
    {
     "name": "stderr",
     "output_type": "stream",
     "text": [
      "/usr/local/lib/python2.7/site-packages/sklearn/cross_validation.py:44: DeprecationWarning: This module was deprecated in version 0.18 in favor of the model_selection module into which all the refactored classes and functions are moved. Also note that the interface of the new CV iterators are different from that of this module. This module will be removed in 0.20.\n",
      "  \"This module will be removed in 0.20.\", DeprecationWarning)\n"
     ]
    }
   ],
   "source": [
    "from sklearn import cross_validation\n",
    "from sklearn.preprocessing import StandardScaler"
   ]
  },
  {
   "cell_type": "code",
   "execution_count": 6,
   "metadata": {
    "collapsed": false
   },
   "outputs": [],
   "source": [
    "array = dataset.values\n",
    "X = array[:,0:8]\n",
    "Y = array[:,8]"
   ]
  },
  {
   "cell_type": "code",
   "execution_count": 7,
   "metadata": {
    "collapsed": true
   },
   "outputs": [],
   "source": [
    "validation_size = 0.20\n",
    "seed = 7\n",
    "X_train, X_test, Y_train, Y_test = cross_validation.train_test_split(X, Y, test_size=validation_size, random_state=seed)"
   ]
  },
  {
   "cell_type": "code",
   "execution_count": 8,
   "metadata": {
    "collapsed": false
   },
   "outputs": [],
   "source": [
    "scaler = StandardScaler().fit(X_train)\n",
    "rescaledX_train = scaler.transform(X_train)"
   ]
  },
  {
   "cell_type": "markdown",
   "metadata": {},
   "source": [
    "## Tune Models"
   ]
  },
  {
   "cell_type": "code",
   "execution_count": 9,
   "metadata": {
    "collapsed": false
   },
   "outputs": [
    {
     "name": "stderr",
     "output_type": "stream",
     "text": [
      "/usr/local/lib/python2.7/site-packages/sklearn/grid_search.py:43: DeprecationWarning: This module was deprecated in version 0.18 in favor of the model_selection module into which all the refactored classes and functions are moved. This module will be removed in 0.20.\n",
      "  DeprecationWarning)\n"
     ]
    }
   ],
   "source": [
    "import numpy as np\n",
    "np.random.seed(7)\n",
    "import random\n",
    "random.seed(7)\n",
    "\n",
    "from sklearn.grid_search import GridSearchCV\n",
    "from sklearn.svm import SVC"
   ]
  },
  {
   "cell_type": "markdown",
   "metadata": {},
   "source": [
    "###  SVM with Linear Kernel"
   ]
  },
  {
   "cell_type": "code",
   "execution_count": 10,
   "metadata": {
    "collapsed": false
   },
   "outputs": [
    {
     "data": {
      "text/plain": [
       "GridSearchCV(cv=4, error_score='raise',\n",
       "       estimator=SVC(C=1.0, cache_size=200, class_weight=None, coef0=0.0,\n",
       "  decision_function_shape=None, degree=3, gamma='auto', kernel='linear',\n",
       "  max_iter=-1, probability=True, random_state=7, shrinking=True, tol=0.001,\n",
       "  verbose=False),\n",
       "       fit_params={}, iid=True, n_jobs=-1,\n",
       "       param_grid={'C': array([   1,   10,  100, 1000])},\n",
       "       pre_dispatch='2*n_jobs', refit=True, scoring='roc_auc', verbose=0)"
      ]
     },
     "execution_count": 10,
     "metadata": {},
     "output_type": "execute_result"
    }
   ],
   "source": [
    "C = 10**np.arange(0,4)\n",
    "param_grid = dict(C=C)\n",
    "model = SVC(random_state=seed, probability=True, kernel=\"linear\")\n",
    "scoring = 'roc_auc' \n",
    "num_folds = 4\n",
    "grid = GridSearchCV(cv=num_folds, estimator=model, param_grid=param_grid,scoring=scoring,n_jobs=-1)\n",
    "grid.fit(rescaledX_train, Y_train)"
   ]
  },
  {
   "cell_type": "code",
   "execution_count": 11,
   "metadata": {
    "collapsed": false
   },
   "outputs": [
    {
     "name": "stdout",
     "output_type": "stream",
     "text": [
      "0.820229475314\n",
      "1000\n"
     ]
    }
   ],
   "source": [
    "print(grid.best_score_)\n",
    "print(grid.best_estimator_.C)\n",
    "svmlTunedC = grid.best_estimator_.C"
   ]
  },
  {
   "cell_type": "markdown",
   "metadata": {},
   "source": [
    "### SVM with Polynomial Kernel"
   ]
  },
  {
   "cell_type": "code",
   "execution_count": 19,
   "metadata": {
    "collapsed": false
   },
   "outputs": [
    {
     "data": {
      "text/plain": [
       "GridSearchCV(cv=4, error_score='raise',\n",
       "       estimator=SVC(C=1.0, cache_size=200, class_weight=None, coef0=0.0,\n",
       "  decision_function_shape=None, degree=3, gamma='auto', kernel='poly',\n",
       "  max_iter=-1, probability=True, random_state=7, shrinking=True, tol=0.001,\n",
       "  verbose=False),\n",
       "       fit_params={}, iid=True, n_jobs=-1,\n",
       "       param_grid={'C': array([   1,   10,  100, 1000]), 'degree': array([2, 3])},\n",
       "       pre_dispatch='2*n_jobs', refit=True, scoring='roc_auc', verbose=0)"
      ]
     },
     "execution_count": 19,
     "metadata": {},
     "output_type": "execute_result"
    }
   ],
   "source": [
    "C = 10**np.arange(0,4)\n",
    "degree = np.arange(2,4)\n",
    "param_grid = dict(C=C,degree=degree)\n",
    "model = SVC(random_state=seed, probability=True, kernel=\"poly\")\n",
    "scoring = 'roc_auc' \n",
    "num_folds = 4\n",
    "grid = GridSearchCV(cv=num_folds, estimator=model, param_grid=param_grid,scoring=scoring,n_jobs=-1)\n",
    "grid.fit(rescaledX_train, Y_train)"
   ]
  },
  {
   "cell_type": "code",
   "execution_count": 20,
   "metadata": {
    "collapsed": false
   },
   "outputs": [
    {
     "name": "stdout",
     "output_type": "stream",
     "text": [
      "0.77015953184\n",
      "(1, 3)\n"
     ]
    }
   ],
   "source": [
    "print(grid.best_score_)\n",
    "print(grid.best_estimator_.C,grid.best_estimator_.degree)\n",
    "svmpTunedC = grid.best_estimator_.C\n",
    "svmpTunedDegree = grid.best_estimator_.degree"
   ]
  },
  {
   "cell_type": "markdown",
   "metadata": {},
   "source": [
    "### SVM with Gaussian Kernel"
   ]
  },
  {
   "cell_type": "code",
   "execution_count": 29,
   "metadata": {
    "collapsed": false
   },
   "outputs": [
    {
     "data": {
      "text/plain": [
       "GridSearchCV(cv=4, error_score='raise',\n",
       "       estimator=SVC(C=1.0, cache_size=200, class_weight=None, coef0=0.0,\n",
       "  decision_function_shape=None, degree=3, gamma='auto', kernel='rbf',\n",
       "  max_iter=-1, probability=True, random_state=7, shrinking=True, tol=0.001,\n",
       "  verbose=False),\n",
       "       fit_params={}, iid=True, n_jobs=-1,\n",
       "       param_grid={'C': array([  1,  10, 100]), 'gamma': array([100000,  10000,   1000,    100,     10,      1,      0,      0,\n",
       "            0,      0])},\n",
       "       pre_dispatch='2*n_jobs', refit=True, scoring='roc_auc', verbose=0)"
      ]
     },
     "execution_count": 29,
     "metadata": {},
     "output_type": "execute_result"
    }
   ],
   "source": [
    "C = 10**np.arange(0,3)\n",
    "gamma = 10**-np.arange(-5,5)\n",
    "param_grid = dict(C=C,gamma=gamma)\n",
    "model = SVC(random_state=seed, probability=True, kernel=\"rbf\")\n",
    "scoring = 'roc_auc' \n",
    "num_folds = 4\n",
    "grid = GridSearchCV(cv=num_folds, estimator=model, param_grid=param_grid,scoring=scoring,n_jobs=-1)\n",
    "grid.fit(rescaledX_train, Y_train)"
   ]
  },
  {
   "cell_type": "code",
   "execution_count": 30,
   "metadata": {
    "collapsed": false
   },
   "outputs": [
    {
     "name": "stdout",
     "output_type": "stream",
     "text": [
      "0.7642281997\n",
      "(1, 1)\n"
     ]
    }
   ],
   "source": [
    "print(grid.best_score_)\n",
    "print(grid.best_estimator_.C,grid.best_estimator_.gamma)\n",
    "svmgTunedC = grid.best_estimator_.C\n",
    "svmgTunedGamma = grid.best_estimator_.gamma"
   ]
  },
  {
   "cell_type": "markdown",
   "metadata": {},
   "source": [
    "## Evaluate Performance"
   ]
  },
  {
   "cell_type": "code",
   "execution_count": 32,
   "metadata": {
    "collapsed": true
   },
   "outputs": [],
   "source": [
    "from sklearn.pipeline import Pipeline\n",
    "from sklearn.metrics import auc\n",
    "from sklearn.metrics import roc_curve"
   ]
  },
  {
   "cell_type": "code",
   "execution_count": 33,
   "metadata": {
    "collapsed": false
   },
   "outputs": [],
   "source": [
    "seed = 7\n",
    "\n",
    "\n",
    "pipelines = []\n",
    "pipelines.append(('SVM-L', Pipeline([('Scaler', StandardScaler()),('SVM-L', SVC(random_state=seed, probability=True, kernel=\"linear\", C=svmlTunedC))])))\n",
    "pipelines.append(('SVM-P', Pipeline([('Scaler', StandardScaler()),('SVM-P', SVC(random_state=seed, probability=True, kernel=\"poly\", C=svmpTunedC, degree=svmpTunedDegree))])))\n",
    "pipelines.append(('SVM-G', Pipeline([('Scaler', StandardScaler()),('SVM-G', SVC(random_state=seed, probability=True, kernel=\"rbf\", C=svmgTunedC, gamma=svmgTunedGamma))])))"
   ]
  },
  {
   "cell_type": "code",
   "execution_count": 34,
   "metadata": {
    "collapsed": false
   },
   "outputs": [
    {
     "name": "stdout",
     "output_type": "stream",
     "text": [
      "SVM-L: 0.845542\n",
      "SVM-P: 0.811901\n",
      "SVM-G: 0.805028\n"
     ]
    }
   ],
   "source": [
    "# Make predictions on test dataset\n",
    "results = []\n",
    "names = []\n",
    "for name, model in pipelines:\n",
    "    model.fit(X_train,Y_train)\n",
    "    fpr, tpr, thresholds = roc_curve(Y_test,model.predict_proba(X_test)[:,1])\n",
    "    result = auc(fpr,tpr)\n",
    "    results.append(result)\n",
    "    names.append(name)\n",
    "    msg = \"%s: %f\" % (name, result)\n",
    "    print(msg)"
   ]
  }
 ],
 "metadata": {
  "kernelspec": {
   "display_name": "Python 2",
   "language": "python",
   "name": "python2"
  },
  "language_info": {
   "codemirror_mode": {
    "name": "ipython",
    "version": 2
   },
   "file_extension": ".py",
   "mimetype": "text/x-python",
   "name": "python",
   "nbconvert_exporter": "python",
   "pygments_lexer": "ipython2",
   "version": "2.7.12"
  }
 },
 "nbformat": 4,
 "nbformat_minor": 1
}
