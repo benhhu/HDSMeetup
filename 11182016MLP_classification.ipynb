{
 "cells": [
  {
   "cell_type": "code",
   "execution_count": 1,
   "metadata": {
    "collapsed": false
   },
   "outputs": [],
   "source": [
    "import pandas as pd"
   ]
  },
  {
   "cell_type": "markdown",
   "metadata": {},
   "source": [
    "## Download PIMA Indians Diabetes dataset"
   ]
  },
  {
   "cell_type": "markdown",
   "metadata": {},
   "source": [
    "1. Number of times pregnant \n",
    "2. Plasma glucose concentration a 2 hours in an oral glucose tolerance test \n",
    "3. Diastolic blood pressure (mm Hg) \n",
    "4. Triceps skin fold thickness (mm) \n",
    "5. 2-Hour serum insulin (mu U/ml) \n",
    "6. Body mass index (weight in kg/(height in m)^2) \n",
    "7. Diabetes pedigree function \n",
    "8. Age (years) \n",
    "9. Class variable (0 or 1) "
   ]
  },
  {
   "cell_type": "code",
   "execution_count": 2,
   "metadata": {
    "collapsed": false
   },
   "outputs": [],
   "source": [
    "url = \"https://archive.ics.uci.edu/ml/machine-learning-databases/pima-indians-diabetes/pima-indians-diabetes.data\"\n",
    "names = ['preg', 'plas', 'pres', 'skin', 'test', 'mass', 'pedi', 'age', 'class']\n",
    "dataset = pd.read_csv(url, names=names)"
   ]
  },
  {
   "cell_type": "markdown",
   "metadata": {},
   "source": [
    "## Summarize Data"
   ]
  },
  {
   "cell_type": "code",
   "execution_count": 3,
   "metadata": {
    "collapsed": false
   },
   "outputs": [
    {
     "name": "stdout",
     "output_type": "stream",
     "text": [
      "(768, 9)\n",
      "preg       int64\n",
      "plas       int64\n",
      "pres       int64\n",
      "skin       int64\n",
      "test       int64\n",
      "mass     float64\n",
      "pedi     float64\n",
      "age        int64\n",
      "class      int64\n",
      "dtype: object\n"
     ]
    }
   ],
   "source": [
    "print(dataset.shape)\n",
    "print(dataset.dtypes)"
   ]
  },
  {
   "cell_type": "code",
   "execution_count": 4,
   "metadata": {
    "collapsed": false
   },
   "outputs": [
    {
     "name": "stdout",
     "output_type": "stream",
     "text": [
      "    preg  plas  pres  skin  test  mass   pedi  age  class\n",
      "0      6   148    72    35     0  33.6  0.627   50      1\n",
      "1      1    85    66    29     0  26.6  0.351   31      0\n",
      "2      8   183    64     0     0  23.3  0.672   32      1\n",
      "3      1    89    66    23    94  28.1  0.167   21      0\n",
      "4      0   137    40    35   168  43.1  2.288   33      1\n",
      "5      5   116    74     0     0  25.6  0.201   30      0\n",
      "6      3    78    50    32    88  31.0  0.248   26      1\n",
      "7     10   115     0     0     0  35.3  0.134   29      0\n",
      "8      2   197    70    45   543  30.5  0.158   53      1\n",
      "9      8   125    96     0     0   0.0  0.232   54      1\n",
      "10     4   110    92     0     0  37.6  0.191   30      0\n",
      "11    10   168    74     0     0  38.0  0.537   34      1\n",
      "12    10   139    80     0     0  27.1  1.441   57      0\n",
      "13     1   189    60    23   846  30.1  0.398   59      1\n",
      "14     5   166    72    19   175  25.8  0.587   51      1\n",
      "15     7   100     0     0     0  30.0  0.484   32      1\n",
      "16     0   118    84    47   230  45.8  0.551   31      1\n",
      "17     7   107    74     0     0  29.6  0.254   31      1\n",
      "18     1   103    30    38    83  43.3  0.183   33      0\n",
      "19     1   115    70    30    96  34.6  0.529   32      1\n"
     ]
    }
   ],
   "source": [
    "print(dataset.head(20))"
   ]
  },
  {
   "cell_type": "markdown",
   "metadata": {},
   "source": [
    "# The first model"
   ]
  },
  {
   "cell_type": "markdown",
   "metadata": {
    "collapsed": true
   },
   "source": [
    "![title](img/MLP1.PNG)"
   ]
  },
  {
   "cell_type": "code",
   "execution_count": 5,
   "metadata": {
    "collapsed": false
   },
   "outputs": [
    {
     "name": "stderr",
     "output_type": "stream",
     "text": [
      "Using TensorFlow backend.\n"
     ]
    }
   ],
   "source": [
    "from keras.models import Sequential\n",
    "from keras.layers import Dense\n",
    "import numpy as np"
   ]
  },
  {
   "cell_type": "code",
   "execution_count": 6,
   "metadata": {
    "collapsed": false
   },
   "outputs": [],
   "source": [
    "seed = 7\n",
    "np.random.seed(seed)"
   ]
  },
  {
   "cell_type": "code",
   "execution_count": 7,
   "metadata": {
    "collapsed": true
   },
   "outputs": [],
   "source": [
    "array = dataset.values\n",
    "X = array[:,0:8]\n",
    "Y = array[:,8]"
   ]
  },
  {
   "cell_type": "code",
   "execution_count": 8,
   "metadata": {
    "collapsed": true
   },
   "outputs": [],
   "source": [
    "# create model\n",
    "model = Sequential()\n",
    "model.add(Dense(12, input_dim=8, init='uniform', activation='relu'))\n",
    "model.add(Dense(8, init='uniform', activation='relu'))\n",
    "model.add(Dense(1, init='uniform', activation='sigmoid'))"
   ]
  },
  {
   "cell_type": "code",
   "execution_count": 9,
   "metadata": {
    "collapsed": false
   },
   "outputs": [],
   "source": [
    "# compile model\n",
    "model.compile(loss='binary_crossentropy',optimizer='adam',metrics=['accuracy'])"
   ]
  },
  {
   "cell_type": "code",
   "execution_count": 10,
   "metadata": {
    "collapsed": false
   },
   "outputs": [
    {
     "data": {
      "text/plain": [
       "<keras.callbacks.History at 0x7f02a803fc90>"
      ]
     },
     "execution_count": 10,
     "metadata": {},
     "output_type": "execute_result"
    }
   ],
   "source": [
    "# fit model\n",
    "model.fit(X, Y, nb_epoch=150, batch_size=10,verbose=0)"
   ]
  },
  {
   "cell_type": "code",
   "execution_count": 11,
   "metadata": {
    "collapsed": false
   },
   "outputs": [
    {
     "name": "stdout",
     "output_type": "stream",
     "text": [
      "608/768 [======================>.......] - ETA: 0sacc: 77.47%\n"
     ]
    }
   ],
   "source": [
    "# evaluate model\n",
    "scores = model.evaluate(X,Y)\n",
    "print(\"%s: %.2f%%\" % (model.metrics_names[1], scores[1]*100))"
   ]
  },
  {
   "cell_type": "markdown",
   "metadata": {
    "collapsed": true
   },
   "source": [
    "# Use a validation dataset"
   ]
  },
  {
   "cell_type": "code",
   "execution_count": 12,
   "metadata": {
    "collapsed": false
   },
   "outputs": [
    {
     "name": "stderr",
     "output_type": "stream",
     "text": [
      "/home/hui/.local/lib/python2.7/site-packages/sklearn/cross_validation.py:44: DeprecationWarning: This module was deprecated in version 0.18 in favor of the model_selection module into which all the refactored classes and functions are moved. Also note that the interface of the new CV iterators are different from that of this module. This module will be removed in 0.20.\n",
      "  \"This module will be removed in 0.20.\", DeprecationWarning)\n"
     ]
    }
   ],
   "source": [
    "from sklearn import cross_validation"
   ]
  },
  {
   "cell_type": "code",
   "execution_count": 13,
   "metadata": {
    "collapsed": true
   },
   "outputs": [],
   "source": [
    "array = dataset.values\n",
    "X = array[:,0:8]\n",
    "Y = array[:,8]\n",
    "\n",
    "validation_size = 0.20\n",
    "X_train, X_test, Y_train, Y_test = cross_validation.train_test_split(X, Y, test_size=validation_size, random_state=seed)"
   ]
  },
  {
   "cell_type": "code",
   "execution_count": 14,
   "metadata": {
    "collapsed": true
   },
   "outputs": [],
   "source": [
    "# create model\n",
    "model = Sequential()\n",
    "model.add(Dense(12, input_dim=8, init='uniform', activation='relu'))\n",
    "model.add(Dense(8, init='uniform', activation='relu'))\n",
    "model.add(Dense(1, init='uniform', activation='sigmoid'))"
   ]
  },
  {
   "cell_type": "code",
   "execution_count": 15,
   "metadata": {
    "collapsed": true
   },
   "outputs": [],
   "source": [
    "# compile model\n",
    "model.compile(loss='binary_crossentropy',optimizer='adam',metrics=['accuracy'])"
   ]
  },
  {
   "cell_type": "code",
   "execution_count": 16,
   "metadata": {
    "collapsed": false
   },
   "outputs": [
    {
     "name": "stdout",
     "output_type": "stream",
     "text": [
      "Train on 614 samples, validate on 154 samples\n",
      "Epoch 1/150\n",
      "614/614 [==============================] - 0s - loss: 0.6792 - acc: 0.6547 - val_loss: 0.6756 - val_acc: 0.6299\n",
      "Epoch 2/150\n",
      "614/614 [==============================] - 0s - loss: 0.6609 - acc: 0.6564 - val_loss: 0.6583 - val_acc: 0.6299\n",
      "Epoch 3/150\n",
      "614/614 [==============================] - 0s - loss: 0.6446 - acc: 0.6564 - val_loss: 0.6362 - val_acc: 0.6234\n",
      "Epoch 4/150\n",
      "614/614 [==============================] - 0s - loss: 0.6285 - acc: 0.6629 - val_loss: 0.6179 - val_acc: 0.6688\n",
      "Epoch 5/150\n",
      "614/614 [==============================] - 0s - loss: 0.6233 - acc: 0.6710 - val_loss: 0.6144 - val_acc: 0.7532\n",
      "Epoch 6/150\n",
      "614/614 [==============================] - 0s - loss: 0.6131 - acc: 0.6792 - val_loss: 0.6163 - val_acc: 0.6494\n",
      "Epoch 7/150\n",
      "614/614 [==============================] - 0s - loss: 0.5999 - acc: 0.6775 - val_loss: 0.6006 - val_acc: 0.7338\n",
      "Epoch 8/150\n",
      "614/614 [==============================] - 0s - loss: 0.6082 - acc: 0.6775 - val_loss: 0.5965 - val_acc: 0.6753\n",
      "Epoch 9/150\n",
      "614/614 [==============================] - 0s - loss: 0.5944 - acc: 0.6743 - val_loss: 0.5864 - val_acc: 0.7532\n",
      "Epoch 10/150\n",
      "614/614 [==============================] - 0s - loss: 0.5952 - acc: 0.6889 - val_loss: 0.5865 - val_acc: 0.7532\n",
      "Epoch 11/150\n",
      "614/614 [==============================] - 0s - loss: 0.5907 - acc: 0.6840 - val_loss: 0.5958 - val_acc: 0.7468\n",
      "Epoch 12/150\n",
      "614/614 [==============================] - 0s - loss: 0.5908 - acc: 0.6775 - val_loss: 0.5797 - val_acc: 0.7078\n",
      "Epoch 13/150\n",
      "614/614 [==============================] - 0s - loss: 0.5920 - acc: 0.7020 - val_loss: 0.5810 - val_acc: 0.7143\n",
      "Epoch 14/150\n",
      "614/614 [==============================] - 0s - loss: 0.5911 - acc: 0.6938 - val_loss: 0.5772 - val_acc: 0.7338\n",
      "Epoch 15/150\n",
      "614/614 [==============================] - 0s - loss: 0.5842 - acc: 0.6873 - val_loss: 0.6324 - val_acc: 0.6623\n",
      "Epoch 16/150\n",
      "614/614 [==============================] - 0s - loss: 0.5804 - acc: 0.7020 - val_loss: 0.5793 - val_acc: 0.7013\n",
      "Epoch 17/150\n",
      "614/614 [==============================] - 0s - loss: 0.5753 - acc: 0.7150 - val_loss: 0.5851 - val_acc: 0.7338\n",
      "Epoch 18/150\n",
      "614/614 [==============================] - 0s - loss: 0.5780 - acc: 0.6954 - val_loss: 0.5831 - val_acc: 0.6688\n",
      "Epoch 19/150\n",
      "614/614 [==============================] - 0s - loss: 0.5730 - acc: 0.7003 - val_loss: 0.5792 - val_acc: 0.6948\n",
      "Epoch 20/150\n",
      "614/614 [==============================] - 0s - loss: 0.5714 - acc: 0.7085 - val_loss: 0.5774 - val_acc: 0.7078\n",
      "Epoch 21/150\n",
      "614/614 [==============================] - 0s - loss: 0.5696 - acc: 0.7231 - val_loss: 0.5957 - val_acc: 0.6753\n",
      "Epoch 22/150\n",
      "614/614 [==============================] - 0s - loss: 0.5687 - acc: 0.7134 - val_loss: 0.5785 - val_acc: 0.7468\n",
      "Epoch 23/150\n",
      "614/614 [==============================] - 0s - loss: 0.5698 - acc: 0.7020 - val_loss: 0.5647 - val_acc: 0.7597\n",
      "Epoch 24/150\n",
      "614/614 [==============================] - 0s - loss: 0.5632 - acc: 0.7101 - val_loss: 0.5658 - val_acc: 0.7143\n",
      "Epoch 25/150\n",
      "614/614 [==============================] - 0s - loss: 0.5636 - acc: 0.7101 - val_loss: 0.5773 - val_acc: 0.7143\n",
      "Epoch 26/150\n",
      "614/614 [==============================] - 0s - loss: 0.5701 - acc: 0.7036 - val_loss: 0.5693 - val_acc: 0.7532\n",
      "Epoch 27/150\n",
      "614/614 [==============================] - 0s - loss: 0.5719 - acc: 0.7003 - val_loss: 0.5640 - val_acc: 0.7727\n",
      "Epoch 28/150\n",
      "614/614 [==============================] - 0s - loss: 0.5644 - acc: 0.7003 - val_loss: 0.5654 - val_acc: 0.7338\n",
      "Epoch 29/150\n",
      "614/614 [==============================] - 0s - loss: 0.5562 - acc: 0.7036 - val_loss: 0.5638 - val_acc: 0.7143\n",
      "Epoch 30/150\n",
      "614/614 [==============================] - 0s - loss: 0.5608 - acc: 0.7085 - val_loss: 0.5590 - val_acc: 0.7597\n",
      "Epoch 31/150\n",
      "614/614 [==============================] - 0s - loss: 0.5478 - acc: 0.7199 - val_loss: 0.5589 - val_acc: 0.7662\n",
      "Epoch 32/150\n",
      "614/614 [==============================] - 0s - loss: 0.5495 - acc: 0.7166 - val_loss: 0.5633 - val_acc: 0.7597\n",
      "Epoch 33/150\n",
      "614/614 [==============================] - 0s - loss: 0.5454 - acc: 0.7150 - val_loss: 0.5823 - val_acc: 0.7208\n",
      "Epoch 34/150\n",
      "614/614 [==============================] - 0s - loss: 0.5381 - acc: 0.7394 - val_loss: 0.5658 - val_acc: 0.7662\n",
      "Epoch 35/150\n",
      "614/614 [==============================] - 0s - loss: 0.5449 - acc: 0.7199 - val_loss: 0.5575 - val_acc: 0.7532\n",
      "Epoch 36/150\n",
      "614/614 [==============================] - 0s - loss: 0.5421 - acc: 0.7296 - val_loss: 0.5706 - val_acc: 0.7468\n",
      "Epoch 37/150\n",
      "614/614 [==============================] - 0s - loss: 0.5456 - acc: 0.7264 - val_loss: 0.5534 - val_acc: 0.7987\n",
      "Epoch 38/150\n",
      "614/614 [==============================] - 0s - loss: 0.5444 - acc: 0.7280 - val_loss: 0.5492 - val_acc: 0.7987\n",
      "Epoch 39/150\n",
      "614/614 [==============================] - 0s - loss: 0.5363 - acc: 0.7296 - val_loss: 0.5488 - val_acc: 0.7857\n",
      "Epoch 40/150\n",
      "614/614 [==============================] - 0s - loss: 0.5509 - acc: 0.7182 - val_loss: 0.5651 - val_acc: 0.7468\n",
      "Epoch 41/150\n",
      "614/614 [==============================] - 0s - loss: 0.5463 - acc: 0.7248 - val_loss: 0.5410 - val_acc: 0.8052\n",
      "Epoch 42/150\n",
      "614/614 [==============================] - 0s - loss: 0.5371 - acc: 0.7313 - val_loss: 0.5447 - val_acc: 0.7532\n",
      "Epoch 43/150\n",
      "614/614 [==============================] - 0s - loss: 0.5365 - acc: 0.7329 - val_loss: 0.5633 - val_acc: 0.7338\n",
      "Epoch 44/150\n",
      "614/614 [==============================] - 0s - loss: 0.5315 - acc: 0.7362 - val_loss: 0.5459 - val_acc: 0.7532\n",
      "Epoch 45/150\n",
      "614/614 [==============================] - 0s - loss: 0.5290 - acc: 0.7313 - val_loss: 0.5414 - val_acc: 0.7987\n",
      "Epoch 46/150\n",
      "614/614 [==============================] - 0s - loss: 0.5313 - acc: 0.7280 - val_loss: 0.5586 - val_acc: 0.7792\n",
      "Epoch 47/150\n",
      "614/614 [==============================] - 0s - loss: 0.5364 - acc: 0.7231 - val_loss: 0.5582 - val_acc: 0.7403\n",
      "Epoch 48/150\n",
      "614/614 [==============================] - 0s - loss: 0.5198 - acc: 0.7459 - val_loss: 0.5609 - val_acc: 0.7532\n",
      "Epoch 49/150\n",
      "614/614 [==============================] - 0s - loss: 0.5219 - acc: 0.7394 - val_loss: 0.5581 - val_acc: 0.7727\n",
      "Epoch 50/150\n",
      "614/614 [==============================] - 0s - loss: 0.5273 - acc: 0.7329 - val_loss: 0.5522 - val_acc: 0.7987\n",
      "Epoch 51/150\n",
      "614/614 [==============================] - 0s - loss: 0.5334 - acc: 0.7345 - val_loss: 0.5340 - val_acc: 0.7727\n",
      "Epoch 52/150\n",
      "614/614 [==============================] - 0s - loss: 0.5194 - acc: 0.7362 - val_loss: 0.5459 - val_acc: 0.7857\n",
      "Epoch 53/150\n",
      "614/614 [==============================] - 0s - loss: 0.5171 - acc: 0.7280 - val_loss: 0.5399 - val_acc: 0.7727\n",
      "Epoch 54/150\n",
      "614/614 [==============================] - 0s - loss: 0.5211 - acc: 0.7378 - val_loss: 0.5341 - val_acc: 0.8117\n",
      "Epoch 55/150\n",
      "614/614 [==============================] - 0s - loss: 0.5245 - acc: 0.7329 - val_loss: 0.5396 - val_acc: 0.8052\n",
      "Epoch 56/150\n",
      "614/614 [==============================] - 0s - loss: 0.5114 - acc: 0.7410 - val_loss: 0.5498 - val_acc: 0.8117\n",
      "Epoch 57/150\n",
      "614/614 [==============================] - 0s - loss: 0.5176 - acc: 0.7459 - val_loss: 0.5620 - val_acc: 0.7922\n",
      "Epoch 58/150\n",
      "614/614 [==============================] - 0s - loss: 0.5152 - acc: 0.7524 - val_loss: 0.5670 - val_acc: 0.7468\n",
      "Epoch 59/150\n",
      "614/614 [==============================] - 0s - loss: 0.5195 - acc: 0.7362 - val_loss: 0.5425 - val_acc: 0.8182\n",
      "Epoch 60/150\n",
      "614/614 [==============================] - 0s - loss: 0.5124 - acc: 0.7492 - val_loss: 0.5457 - val_acc: 0.7987\n",
      "Epoch 61/150\n",
      "614/614 [==============================] - 0s - loss: 0.5027 - acc: 0.7459 - val_loss: 0.6197 - val_acc: 0.6883\n",
      "Epoch 62/150\n",
      "614/614 [==============================] - 0s - loss: 0.5165 - acc: 0.7345 - val_loss: 0.5723 - val_acc: 0.7403\n",
      "Epoch 63/150\n",
      "614/614 [==============================] - 0s - loss: 0.5180 - acc: 0.7134 - val_loss: 0.5398 - val_acc: 0.7922\n",
      "Epoch 64/150\n",
      "614/614 [==============================] - 0s - loss: 0.5034 - acc: 0.7427 - val_loss: 0.5356 - val_acc: 0.7857\n",
      "Epoch 65/150\n",
      "614/614 [==============================] - 0s - loss: 0.5044 - acc: 0.7427 - val_loss: 0.5641 - val_acc: 0.7532\n",
      "Epoch 66/150\n",
      "614/614 [==============================] - 0s - loss: 0.5008 - acc: 0.7492 - val_loss: 0.5869 - val_acc: 0.7273\n",
      "Epoch 67/150\n",
      "614/614 [==============================] - 0s - loss: 0.5021 - acc: 0.7476 - val_loss: 0.5369 - val_acc: 0.8052\n",
      "Epoch 68/150\n",
      "614/614 [==============================] - 0s - loss: 0.5072 - acc: 0.7329 - val_loss: 0.5259 - val_acc: 0.8117\n",
      "Epoch 69/150\n",
      "614/614 [==============================] - 0s - loss: 0.4952 - acc: 0.7459 - val_loss: 0.5650 - val_acc: 0.7403\n",
      "Epoch 70/150\n",
      "614/614 [==============================] - 0s - loss: 0.5099 - acc: 0.7524 - val_loss: 0.5461 - val_acc: 0.7792\n",
      "Epoch 71/150\n",
      "614/614 [==============================] - 0s - loss: 0.4997 - acc: 0.7410 - val_loss: 0.5596 - val_acc: 0.7532\n",
      "Epoch 72/150\n",
      "614/614 [==============================] - 0s - loss: 0.4974 - acc: 0.7459 - val_loss: 0.5401 - val_acc: 0.8117\n",
      "Epoch 73/150\n",
      "614/614 [==============================] - 0s - loss: 0.4986 - acc: 0.7378 - val_loss: 0.5539 - val_acc: 0.7727\n",
      "Epoch 74/150\n",
      "614/614 [==============================] - 0s - loss: 0.4920 - acc: 0.7590 - val_loss: 0.5283 - val_acc: 0.8052\n",
      "Epoch 75/150\n",
      "614/614 [==============================] - 0s - loss: 0.4903 - acc: 0.7508 - val_loss: 0.5321 - val_acc: 0.7922\n",
      "Epoch 76/150\n",
      "614/614 [==============================] - 0s - loss: 0.4848 - acc: 0.7541 - val_loss: 0.5748 - val_acc: 0.7273\n",
      "Epoch 77/150\n",
      "614/614 [==============================] - 0s - loss: 0.5034 - acc: 0.7671 - val_loss: 0.5707 - val_acc: 0.7468\n",
      "Epoch 78/150\n",
      "614/614 [==============================] - 0s - loss: 0.4939 - acc: 0.7524 - val_loss: 0.5300 - val_acc: 0.8052\n",
      "Epoch 79/150\n",
      "614/614 [==============================] - 0s - loss: 0.4848 - acc: 0.7720 - val_loss: 0.5474 - val_acc: 0.7857\n",
      "Epoch 80/150\n",
      "614/614 [==============================] - 0s - loss: 0.4924 - acc: 0.7541 - val_loss: 0.5320 - val_acc: 0.7922\n",
      "Epoch 81/150\n",
      "614/614 [==============================] - 0s - loss: 0.4870 - acc: 0.7443 - val_loss: 0.5285 - val_acc: 0.8117\n",
      "Epoch 82/150\n",
      "614/614 [==============================] - 0s - loss: 0.5005 - acc: 0.7459 - val_loss: 0.5390 - val_acc: 0.7857\n",
      "Epoch 83/150\n",
      "614/614 [==============================] - 0s - loss: 0.4844 - acc: 0.7492 - val_loss: 0.5377 - val_acc: 0.7987\n",
      "Epoch 84/150\n",
      "614/614 [==============================] - 0s - loss: 0.4953 - acc: 0.7573 - val_loss: 0.5314 - val_acc: 0.7922\n",
      "Epoch 85/150\n",
      "614/614 [==============================] - 0s - loss: 0.4856 - acc: 0.7541 - val_loss: 0.5382 - val_acc: 0.7792\n",
      "Epoch 86/150\n",
      "614/614 [==============================] - 0s - loss: 0.4872 - acc: 0.7671 - val_loss: 0.5321 - val_acc: 0.7987\n",
      "Epoch 87/150\n",
      "614/614 [==============================] - 0s - loss: 0.4777 - acc: 0.7720 - val_loss: 0.5313 - val_acc: 0.8052\n",
      "Epoch 88/150\n",
      "614/614 [==============================] - 0s - loss: 0.4822 - acc: 0.7622 - val_loss: 0.5473 - val_acc: 0.7857\n",
      "Epoch 89/150\n",
      "614/614 [==============================] - 0s - loss: 0.4865 - acc: 0.7573 - val_loss: 0.5548 - val_acc: 0.7532\n",
      "Epoch 90/150\n",
      "614/614 [==============================] - 0s - loss: 0.4827 - acc: 0.7524 - val_loss: 0.5405 - val_acc: 0.8052\n",
      "Epoch 91/150\n",
      "614/614 [==============================] - 0s - loss: 0.4868 - acc: 0.7557 - val_loss: 0.5454 - val_acc: 0.7662\n",
      "Epoch 92/150\n",
      "614/614 [==============================] - 0s - loss: 0.4792 - acc: 0.7606 - val_loss: 0.5362 - val_acc: 0.8052\n",
      "Epoch 93/150\n",
      "614/614 [==============================] - 0s - loss: 0.4770 - acc: 0.7622 - val_loss: 0.5354 - val_acc: 0.8052\n",
      "Epoch 94/150\n",
      "614/614 [==============================] - 0s - loss: 0.4771 - acc: 0.7638 - val_loss: 0.5608 - val_acc: 0.7532\n",
      "Epoch 95/150\n",
      "614/614 [==============================] - 0s - loss: 0.4941 - acc: 0.7573 - val_loss: 0.5448 - val_acc: 0.7662\n",
      "Epoch 96/150\n",
      "614/614 [==============================] - 0s - loss: 0.4850 - acc: 0.7590 - val_loss: 0.5487 - val_acc: 0.7857\n",
      "Epoch 97/150\n",
      "614/614 [==============================] - 0s - loss: 0.4721 - acc: 0.7606 - val_loss: 0.5494 - val_acc: 0.7662\n",
      "Epoch 98/150\n",
      "614/614 [==============================] - 0s - loss: 0.4781 - acc: 0.7606 - val_loss: 0.5332 - val_acc: 0.7857\n",
      "Epoch 99/150\n",
      "614/614 [==============================] - 0s - loss: 0.4775 - acc: 0.7443 - val_loss: 0.5640 - val_acc: 0.7403\n",
      "Epoch 100/150\n",
      "614/614 [==============================] - 0s - loss: 0.4807 - acc: 0.7655 - val_loss: 0.5473 - val_acc: 0.7662\n",
      "Epoch 101/150\n",
      "614/614 [==============================] - 0s - loss: 0.4738 - acc: 0.7687 - val_loss: 0.5403 - val_acc: 0.8052\n",
      "Epoch 102/150\n",
      "614/614 [==============================] - 0s - loss: 0.4708 - acc: 0.7720 - val_loss: 0.5263 - val_acc: 0.7987\n",
      "Epoch 103/150\n",
      "614/614 [==============================] - 0s - loss: 0.4630 - acc: 0.7785 - val_loss: 0.5393 - val_acc: 0.7727\n",
      "Epoch 104/150\n",
      "614/614 [==============================] - 0s - loss: 0.4709 - acc: 0.7687 - val_loss: 0.5333 - val_acc: 0.7922\n",
      "Epoch 105/150\n",
      "614/614 [==============================] - 0s - loss: 0.4677 - acc: 0.7655 - val_loss: 0.5378 - val_acc: 0.8117\n",
      "Epoch 106/150\n",
      "614/614 [==============================] - 0s - loss: 0.4691 - acc: 0.7736 - val_loss: 0.5398 - val_acc: 0.7857\n",
      "Epoch 107/150\n",
      "614/614 [==============================] - 0s - loss: 0.4651 - acc: 0.7622 - val_loss: 0.5292 - val_acc: 0.8052\n",
      "Epoch 108/150\n",
      "614/614 [==============================] - 0s - loss: 0.4634 - acc: 0.7720 - val_loss: 0.5512 - val_acc: 0.7468\n",
      "Epoch 109/150\n",
      "614/614 [==============================] - 0s - loss: 0.4689 - acc: 0.7606 - val_loss: 0.5438 - val_acc: 0.7727\n",
      "Epoch 110/150\n",
      "614/614 [==============================] - 0s - loss: 0.4641 - acc: 0.7720 - val_loss: 0.5701 - val_acc: 0.7662\n",
      "Epoch 111/150\n",
      "614/614 [==============================] - 0s - loss: 0.4655 - acc: 0.7524 - val_loss: 0.5537 - val_acc: 0.7987\n",
      "Epoch 112/150\n",
      "614/614 [==============================] - 0s - loss: 0.4741 - acc: 0.7622 - val_loss: 0.5693 - val_acc: 0.7597\n",
      "Epoch 113/150\n",
      "614/614 [==============================] - 0s - loss: 0.4719 - acc: 0.7687 - val_loss: 0.5755 - val_acc: 0.7532\n",
      "Epoch 114/150\n",
      "614/614 [==============================] - 0s - loss: 0.4634 - acc: 0.7769 - val_loss: 0.5441 - val_acc: 0.7857\n",
      "Epoch 115/150\n",
      "614/614 [==============================] - 0s - loss: 0.4544 - acc: 0.7687 - val_loss: 0.5428 - val_acc: 0.7987\n",
      "Epoch 116/150\n",
      "614/614 [==============================] - 0s - loss: 0.4577 - acc: 0.7655 - val_loss: 0.5370 - val_acc: 0.7987\n",
      "Epoch 117/150\n",
      "614/614 [==============================] - 0s - loss: 0.4588 - acc: 0.7655 - val_loss: 0.5340 - val_acc: 0.7987\n",
      "Epoch 118/150\n",
      "614/614 [==============================] - 0s - loss: 0.4720 - acc: 0.7590 - val_loss: 0.5596 - val_acc: 0.7662\n",
      "Epoch 119/150\n",
      "614/614 [==============================] - 0s - loss: 0.4622 - acc: 0.7671 - val_loss: 0.5334 - val_acc: 0.8117\n",
      "Epoch 120/150\n",
      "614/614 [==============================] - 0s - loss: 0.4673 - acc: 0.7655 - val_loss: 0.5405 - val_acc: 0.7922\n",
      "Epoch 121/150\n",
      "614/614 [==============================] - 0s - loss: 0.4600 - acc: 0.7850 - val_loss: 0.5471 - val_acc: 0.7792\n",
      "Epoch 122/150\n",
      "614/614 [==============================] - 0s - loss: 0.4592 - acc: 0.7655 - val_loss: 0.5545 - val_acc: 0.7857\n",
      "Epoch 123/150\n",
      "614/614 [==============================] - 0s - loss: 0.4681 - acc: 0.7769 - val_loss: 0.5339 - val_acc: 0.7857\n",
      "Epoch 124/150\n",
      "614/614 [==============================] - 0s - loss: 0.4489 - acc: 0.7899 - val_loss: 0.5775 - val_acc: 0.7468\n",
      "Epoch 125/150\n",
      "614/614 [==============================] - 0s - loss: 0.4617 - acc: 0.7752 - val_loss: 0.5399 - val_acc: 0.7662\n",
      "Epoch 126/150\n",
      "614/614 [==============================] - 0s - loss: 0.4614 - acc: 0.7687 - val_loss: 0.5466 - val_acc: 0.8052\n",
      "Epoch 127/150\n",
      "614/614 [==============================] - 0s - loss: 0.4548 - acc: 0.7622 - val_loss: 0.5504 - val_acc: 0.7792\n",
      "Epoch 128/150\n",
      "614/614 [==============================] - 0s - loss: 0.4492 - acc: 0.7687 - val_loss: 0.5332 - val_acc: 0.7987\n",
      "Epoch 129/150\n",
      "614/614 [==============================] - 0s - loss: 0.4434 - acc: 0.7801 - val_loss: 0.5673 - val_acc: 0.7532\n",
      "Epoch 130/150\n",
      "614/614 [==============================] - 0s - loss: 0.4496 - acc: 0.7655 - val_loss: 0.5529 - val_acc: 0.7468\n",
      "Epoch 131/150\n",
      "614/614 [==============================] - 0s - loss: 0.4442 - acc: 0.7752 - val_loss: 0.5453 - val_acc: 0.8117\n",
      "Epoch 132/150\n",
      "614/614 [==============================] - 0s - loss: 0.4585 - acc: 0.7769 - val_loss: 0.5968 - val_acc: 0.7403\n",
      "Epoch 133/150\n",
      "614/614 [==============================] - 0s - loss: 0.4493 - acc: 0.7752 - val_loss: 0.5594 - val_acc: 0.7792\n",
      "Epoch 134/150\n",
      "614/614 [==============================] - 0s - loss: 0.4457 - acc: 0.7769 - val_loss: 0.5610 - val_acc: 0.7987\n",
      "Epoch 135/150\n",
      "614/614 [==============================] - 0s - loss: 0.4352 - acc: 0.7932 - val_loss: 0.5590 - val_acc: 0.7792\n",
      "Epoch 136/150\n",
      "614/614 [==============================] - 0s - loss: 0.4434 - acc: 0.7622 - val_loss: 0.5686 - val_acc: 0.7597\n",
      "Epoch 137/150\n",
      "614/614 [==============================] - 0s - loss: 0.4519 - acc: 0.7834 - val_loss: 0.5244 - val_acc: 0.8312\n",
      "Epoch 138/150\n",
      "614/614 [==============================] - 0s - loss: 0.4451 - acc: 0.7720 - val_loss: 0.5363 - val_acc: 0.7987\n",
      "Epoch 139/150\n",
      "614/614 [==============================] - 0s - loss: 0.4397 - acc: 0.7818 - val_loss: 0.5385 - val_acc: 0.7987\n",
      "Epoch 140/150\n",
      "614/614 [==============================] - 0s - loss: 0.4513 - acc: 0.7622 - val_loss: 0.5847 - val_acc: 0.7597\n",
      "Epoch 141/150\n",
      "614/614 [==============================] - 0s - loss: 0.4432 - acc: 0.7720 - val_loss: 0.5737 - val_acc: 0.7403\n",
      "Epoch 142/150\n",
      "614/614 [==============================] - 0s - loss: 0.4498 - acc: 0.7948 - val_loss: 0.5491 - val_acc: 0.7922\n",
      "Epoch 143/150\n",
      "614/614 [==============================] - 0s - loss: 0.4366 - acc: 0.7818 - val_loss: 0.5515 - val_acc: 0.7922\n",
      "Epoch 144/150\n",
      "614/614 [==============================] - 0s - loss: 0.4407 - acc: 0.7818 - val_loss: 0.5745 - val_acc: 0.7532\n",
      "Epoch 145/150\n",
      "614/614 [==============================] - 0s - loss: 0.4334 - acc: 0.7964 - val_loss: 0.5525 - val_acc: 0.7792\n",
      "Epoch 146/150\n",
      "614/614 [==============================] - 0s - loss: 0.4275 - acc: 0.7980 - val_loss: 0.5662 - val_acc: 0.7857\n",
      "Epoch 147/150\n",
      "614/614 [==============================] - 0s - loss: 0.4360 - acc: 0.7883 - val_loss: 0.5787 - val_acc: 0.7792\n",
      "Epoch 148/150\n",
      "614/614 [==============================] - 0s - loss: 0.4313 - acc: 0.7883 - val_loss: 0.5598 - val_acc: 0.7727\n",
      "Epoch 149/150\n",
      "614/614 [==============================] - 0s - loss: 0.4334 - acc: 0.7948 - val_loss: 0.5622 - val_acc: 0.7597\n",
      "Epoch 150/150\n",
      "614/614 [==============================] - 0s - loss: 0.4336 - acc: 0.7834 - val_loss: 0.5793 - val_acc: 0.7597\n"
     ]
    },
    {
     "data": {
      "text/plain": [
       "<keras.callbacks.History at 0x7f02490676d0>"
      ]
     },
     "execution_count": 16,
     "metadata": {},
     "output_type": "execute_result"
    }
   ],
   "source": [
    "# fit model\n",
    "model.fit(X_train, Y_train, validation_data=(X_test,Y_test), nb_epoch=150, batch_size=10)"
   ]
  },
  {
   "cell_type": "markdown",
   "metadata": {},
   "source": [
    "# Manual k-Fold CV"
   ]
  },
  {
   "cell_type": "code",
   "execution_count": 17,
   "metadata": {
    "collapsed": true
   },
   "outputs": [],
   "source": [
    "from sklearn.model_selection import StratifiedKFold"
   ]
  },
  {
   "cell_type": "code",
   "execution_count": 18,
   "metadata": {
    "collapsed": true
   },
   "outputs": [],
   "source": [
    "# define 4-fold cross validation test harness\n",
    "kfold = StratifiedKFold(n_splits=4, shuffle=True, random_state=seed)\n",
    "cvscores = []"
   ]
  },
  {
   "cell_type": "code",
   "execution_count": 19,
   "metadata": {
    "collapsed": false
   },
   "outputs": [
    {
     "name": "stdout",
     "output_type": "stream",
     "text": [
      "acc: 75.00%\n",
      "acc: 81.25%\n",
      "acc: 70.31%\n",
      "acc: 72.92%\n"
     ]
    }
   ],
   "source": [
    "for train, test in kfold.split(X, Y):\n",
    "    # create model\n",
    "    model = Sequential()\n",
    "    model.add(Dense(12, input_dim=8, init= 'uniform' , activation= 'relu' ))\n",
    "    model.add(Dense(8, init= 'uniform' , activation= 'relu' ))\n",
    "    model.add(Dense(1, init= 'uniform' , activation= 'sigmoid' ))\n",
    "    # Compile model\n",
    "    model.compile(loss= 'binary_crossentropy' , optimizer= 'adam' , metrics=['accuracy'])\n",
    "    # Fit the model\n",
    "    model.fit(X[train], Y[train], nb_epoch=150, batch_size=10, verbose=0)\n",
    "    # evaluate the model\n",
    "    scores = model.evaluate(X[test], Y[test], verbose=0)\n",
    "    print(\"%s: %.2f%%\" % (model.metrics_names[1], scores[1]*100))\n",
    "    cvscores.append(scores[1] * 100)"
   ]
  },
  {
   "cell_type": "code",
   "execution_count": 20,
   "metadata": {
    "collapsed": false
   },
   "outputs": [
    {
     "name": "stdout",
     "output_type": "stream",
     "text": [
      "74.87% (+/- 4.04%)\n"
     ]
    }
   ],
   "source": [
    "print(\"%.2f%% (+/- %.2f%%)\" % (np.mean(cvscores), np.std(cvscores)))"
   ]
  },
  {
   "cell_type": "markdown",
   "metadata": {},
   "source": [
    "# Tune Parameters using Grid Search"
   ]
  },
  {
   "cell_type": "code",
   "execution_count": 21,
   "metadata": {
    "collapsed": true
   },
   "outputs": [],
   "source": [
    "from keras.wrappers.scikit_learn import KerasClassifier\n",
    "from sklearn.model_selection import GridSearchCV\n",
    "from sklearn.preprocessing import StandardScaler"
   ]
  },
  {
   "cell_type": "code",
   "execution_count": 22,
   "metadata": {
    "collapsed": true
   },
   "outputs": [],
   "source": [
    "validation_size = 0.20\n",
    "X_train, X_test, Y_train, Y_test = cross_validation.train_test_split(X, Y, test_size=validation_size, random_state=seed)"
   ]
  },
  {
   "cell_type": "code",
   "execution_count": 23,
   "metadata": {
    "collapsed": false
   },
   "outputs": [],
   "source": [
    "scaler = StandardScaler().fit(X_train)\n",
    "rescaledX_train = scaler.transform(X_train)"
   ]
  },
  {
   "cell_type": "code",
   "execution_count": 24,
   "metadata": {
    "collapsed": true
   },
   "outputs": [],
   "source": [
    "# Function to create model, required for KerasClassifier\n",
    "def create_model(optimizer= 'rmsprop' , init= 'uniform' ):\n",
    "    # create model\n",
    "    model = Sequential()\n",
    "    model.add(Dense(12, input_dim=8, init=init, activation= 'relu' ))\n",
    "    model.add(Dense(8, init=init, activation= 'relu' ))\n",
    "    model.add(Dense(1, init=init, activation= 'sigmoid' ))\n",
    "    # Compile model\n",
    "    model.compile(loss= 'binary_crossentropy' , optimizer=optimizer, metrics=[ 'accuracy' ])\n",
    "    return model"
   ]
  },
  {
   "cell_type": "code",
   "execution_count": 25,
   "metadata": {
    "collapsed": true
   },
   "outputs": [],
   "source": [
    "# create model\n",
    "model = KerasClassifier(build_fn=create_model, verbose=0)"
   ]
  },
  {
   "cell_type": "code",
   "execution_count": 26,
   "metadata": {
    "collapsed": false
   },
   "outputs": [],
   "source": [
    "# grid search epochs, batch size and optimizer\n",
    "optimizers = ['rmsprop','adam']\n",
    "init = ['normal','uniform']\n",
    "epochs = np.array([150])\n",
    "batches = np.array([5,10])\n",
    "param_grid = dict(optimizer=optimizers, nb_epoch=epochs, batch_size=batches, init=init)\n",
    "grid = GridSearchCV(estimator=model, param_grid=param_grid)\n",
    "grid_result = grid.fit(rescaledX_train, Y_train)"
   ]
  },
  {
   "cell_type": "code",
   "execution_count": 27,
   "metadata": {
    "collapsed": false
   },
   "outputs": [
    {
     "name": "stdout",
     "output_type": "stream",
     "text": [
      "Best: 0.758958 using {'init': 'normal', 'optimizer': 'adam', 'nb_epoch': 150, 'batch_size': 10}\n"
     ]
    }
   ],
   "source": [
    "print(\"Best: %f using %s\" % (grid_result.best_score_, grid_result.best_params_))"
   ]
  },
  {
   "cell_type": "code",
   "execution_count": 28,
   "metadata": {
    "collapsed": false
   },
   "outputs": [
    {
     "name": "stdout",
     "output_type": "stream",
     "text": [
      "0.752463 (0.011764) with: {'init': 'normal', 'optimizer': 'rmsprop', 'nb_epoch': 150, 'batch_size': 5}\n",
      "0.741089 (0.020166) with: {'init': 'normal', 'optimizer': 'adam', 'nb_epoch': 150, 'batch_size': 5}\n",
      "0.752447 (0.008153) with: {'init': 'uniform', 'optimizer': 'rmsprop', 'nb_epoch': 150, 'batch_size': 5}\n",
      "0.747569 (0.011226) with: {'init': 'uniform', 'optimizer': 'adam', 'nb_epoch': 150, 'batch_size': 5}\n",
      "0.745927 (0.000586) with: {'init': 'normal', 'optimizer': 'rmsprop', 'nb_epoch': 150, 'batch_size': 10}\n",
      "0.758975 (0.009603) with: {'init': 'normal', 'optimizer': 'adam', 'nb_epoch': 150, 'batch_size': 10}\n",
      "0.752455 (0.011232) with: {'init': 'uniform', 'optimizer': 'rmsprop', 'nb_epoch': 150, 'batch_size': 10}\n",
      "0.755723 (0.013984) with: {'init': 'uniform', 'optimizer': 'adam', 'nb_epoch': 150, 'batch_size': 10}\n"
     ]
    },
    {
     "name": "stderr",
     "output_type": "stream",
     "text": [
      "/home/hui/.local/lib/python2.7/site-packages/sklearn/model_selection/_search.py:662: DeprecationWarning: The grid_scores_ attribute was deprecated in version 0.18 in favor of the more elaborate cv_results_ attribute. The grid_scores_ attribute will not be available from 0.20\n",
      "  DeprecationWarning)\n"
     ]
    }
   ],
   "source": [
    "for params, mean_score, scores in grid_result.grid_scores_:\n",
    "    print(\"%f (%f) with: %r\" % (scores.mean(), scores.std(), params))"
   ]
  },
  {
   "cell_type": "code",
   "execution_count": null,
   "metadata": {
    "collapsed": true
   },
   "outputs": [],
   "source": []
  },
  {
   "cell_type": "markdown",
   "metadata": {},
   "source": [
    "## Prepare Data"
   ]
  },
  {
   "cell_type": "code",
   "execution_count": 5,
   "metadata": {
    "collapsed": false
   },
   "outputs": [
    {
     "name": "stderr",
     "output_type": "stream",
     "text": [
      "/usr/local/lib/python2.7/site-packages/sklearn/cross_validation.py:44: DeprecationWarning: This module was deprecated in version 0.18 in favor of the model_selection module into which all the refactored classes and functions are moved. Also note that the interface of the new CV iterators are different from that of this module. This module will be removed in 0.20.\n",
      "  \"This module will be removed in 0.20.\", DeprecationWarning)\n"
     ]
    }
   ],
   "source": [
    "from sklearn import cross_validation\n",
    "from sklearn.preprocessing import StandardScaler"
   ]
  },
  {
   "cell_type": "code",
   "execution_count": 6,
   "metadata": {
    "collapsed": false
   },
   "outputs": [],
   "source": [
    "array = dataset.values\n",
    "X = array[:,0:8]\n",
    "Y = array[:,8]"
   ]
  },
  {
   "cell_type": "code",
   "execution_count": 7,
   "metadata": {
    "collapsed": true
   },
   "outputs": [],
   "source": [
    "validation_size = 0.20\n",
    "seed = 7\n",
    "X_train, X_test, Y_train, Y_test = cross_validation.train_test_split(X, Y, test_size=validation_size, random_state=seed)"
   ]
  },
  {
   "cell_type": "code",
   "execution_count": 8,
   "metadata": {
    "collapsed": false
   },
   "outputs": [],
   "source": [
    "scaler = StandardScaler().fit(X_train)\n",
    "rescaledX_train = scaler.transform(X_train)"
   ]
  },
  {
   "cell_type": "markdown",
   "metadata": {},
   "source": [
    "## Tune Models"
   ]
  },
  {
   "cell_type": "code",
   "execution_count": 9,
   "metadata": {
    "collapsed": false
   },
   "outputs": [
    {
     "name": "stderr",
     "output_type": "stream",
     "text": [
      "/usr/local/lib/python2.7/site-packages/sklearn/grid_search.py:43: DeprecationWarning: This module was deprecated in version 0.18 in favor of the model_selection module into which all the refactored classes and functions are moved. This module will be removed in 0.20.\n",
      "  DeprecationWarning)\n"
     ]
    }
   ],
   "source": [
    "import numpy as np\n",
    "np.random.seed(7)\n",
    "import random\n",
    "random.seed(7)\n",
    "\n",
    "from sklearn.grid_search import GridSearchCV\n",
    "from sklearn.svm import SVC"
   ]
  },
  {
   "cell_type": "markdown",
   "metadata": {},
   "source": [
    "###  SVM with Linear Kernel"
   ]
  },
  {
   "cell_type": "code",
   "execution_count": 10,
   "metadata": {
    "collapsed": false
   },
   "outputs": [
    {
     "data": {
      "text/plain": [
       "GridSearchCV(cv=4, error_score='raise',\n",
       "       estimator=SVC(C=1.0, cache_size=200, class_weight=None, coef0=0.0,\n",
       "  decision_function_shape=None, degree=3, gamma='auto', kernel='linear',\n",
       "  max_iter=-1, probability=True, random_state=7, shrinking=True, tol=0.001,\n",
       "  verbose=False),\n",
       "       fit_params={}, iid=True, n_jobs=-1,\n",
       "       param_grid={'C': array([   1,   10,  100, 1000])},\n",
       "       pre_dispatch='2*n_jobs', refit=True, scoring='roc_auc', verbose=0)"
      ]
     },
     "execution_count": 10,
     "metadata": {},
     "output_type": "execute_result"
    }
   ],
   "source": [
    "C = 10**np.arange(0,4)\n",
    "param_grid = dict(C=C)\n",
    "model = SVC(random_state=seed, probability=True, kernel=\"linear\")\n",
    "scoring = 'roc_auc' \n",
    "num_folds = 4\n",
    "grid = GridSearchCV(cv=num_folds, estimator=model, param_grid=param_grid,scoring=scoring,n_jobs=-1)\n",
    "grid.fit(rescaledX_train, Y_train)"
   ]
  },
  {
   "cell_type": "code",
   "execution_count": 11,
   "metadata": {
    "collapsed": false
   },
   "outputs": [
    {
     "name": "stdout",
     "output_type": "stream",
     "text": [
      "0.820229475314\n",
      "1000\n"
     ]
    }
   ],
   "source": [
    "print(grid.best_score_)\n",
    "print(grid.best_estimator_.C)\n",
    "svmlTunedC = grid.best_estimator_.C"
   ]
  },
  {
   "cell_type": "markdown",
   "metadata": {},
   "source": [
    "### SVM with Polynomial Kernel"
   ]
  },
  {
   "cell_type": "code",
   "execution_count": 19,
   "metadata": {
    "collapsed": false
   },
   "outputs": [
    {
     "data": {
      "text/plain": [
       "GridSearchCV(cv=4, error_score='raise',\n",
       "       estimator=SVC(C=1.0, cache_size=200, class_weight=None, coef0=0.0,\n",
       "  decision_function_shape=None, degree=3, gamma='auto', kernel='poly',\n",
       "  max_iter=-1, probability=True, random_state=7, shrinking=True, tol=0.001,\n",
       "  verbose=False),\n",
       "       fit_params={}, iid=True, n_jobs=-1,\n",
       "       param_grid={'C': array([   1,   10,  100, 1000]), 'degree': array([2, 3])},\n",
       "       pre_dispatch='2*n_jobs', refit=True, scoring='roc_auc', verbose=0)"
      ]
     },
     "execution_count": 19,
     "metadata": {},
     "output_type": "execute_result"
    }
   ],
   "source": [
    "C = 10**np.arange(0,4)\n",
    "degree = np.arange(2,4)\n",
    "param_grid = dict(C=C,degree=degree)\n",
    "model = SVC(random_state=seed, probability=True, kernel=\"poly\")\n",
    "scoring = 'roc_auc' \n",
    "num_folds = 4\n",
    "grid = GridSearchCV(cv=num_folds, estimator=model, param_grid=param_grid,scoring=scoring,n_jobs=-1)\n",
    "grid.fit(rescaledX_train, Y_train)"
   ]
  },
  {
   "cell_type": "code",
   "execution_count": 20,
   "metadata": {
    "collapsed": false
   },
   "outputs": [
    {
     "name": "stdout",
     "output_type": "stream",
     "text": [
      "0.77015953184\n",
      "(1, 3)\n"
     ]
    }
   ],
   "source": [
    "print(grid.best_score_)\n",
    "print(grid.best_estimator_.C,grid.best_estimator_.degree)\n",
    "svmpTunedC = grid.best_estimator_.C\n",
    "svmpTunedDegree = grid.best_estimator_.degree"
   ]
  },
  {
   "cell_type": "markdown",
   "metadata": {},
   "source": [
    "### SVM with Gaussian Kernel"
   ]
  },
  {
   "cell_type": "code",
   "execution_count": 29,
   "metadata": {
    "collapsed": false
   },
   "outputs": [
    {
     "data": {
      "text/plain": [
       "GridSearchCV(cv=4, error_score='raise',\n",
       "       estimator=SVC(C=1.0, cache_size=200, class_weight=None, coef0=0.0,\n",
       "  decision_function_shape=None, degree=3, gamma='auto', kernel='rbf',\n",
       "  max_iter=-1, probability=True, random_state=7, shrinking=True, tol=0.001,\n",
       "  verbose=False),\n",
       "       fit_params={}, iid=True, n_jobs=-1,\n",
       "       param_grid={'C': array([  1,  10, 100]), 'gamma': array([100000,  10000,   1000,    100,     10,      1,      0,      0,\n",
       "            0,      0])},\n",
       "       pre_dispatch='2*n_jobs', refit=True, scoring='roc_auc', verbose=0)"
      ]
     },
     "execution_count": 29,
     "metadata": {},
     "output_type": "execute_result"
    }
   ],
   "source": [
    "C = 10**np.arange(0,3)\n",
    "gamma = 10**-np.arange(-5,5)\n",
    "param_grid = dict(C=C,gamma=gamma)\n",
    "model = SVC(random_state=seed, probability=True, kernel=\"rbf\")\n",
    "scoring = 'roc_auc' \n",
    "num_folds = 4\n",
    "grid = GridSearchCV(cv=num_folds, estimator=model, param_grid=param_grid,scoring=scoring,n_jobs=-1)\n",
    "grid.fit(rescaledX_train, Y_train)"
   ]
  },
  {
   "cell_type": "code",
   "execution_count": 30,
   "metadata": {
    "collapsed": false
   },
   "outputs": [
    {
     "name": "stdout",
     "output_type": "stream",
     "text": [
      "0.7642281997\n",
      "(1, 1)\n"
     ]
    }
   ],
   "source": [
    "print(grid.best_score_)\n",
    "print(grid.best_estimator_.C,grid.best_estimator_.gamma)\n",
    "svmgTunedC = grid.best_estimator_.C\n",
    "svmgTunedGamma = grid.best_estimator_.gamma"
   ]
  },
  {
   "cell_type": "markdown",
   "metadata": {},
   "source": [
    "## Evaluate Performance"
   ]
  },
  {
   "cell_type": "code",
   "execution_count": 32,
   "metadata": {
    "collapsed": true
   },
   "outputs": [],
   "source": [
    "from sklearn.pipeline import Pipeline\n",
    "from sklearn.metrics import auc\n",
    "from sklearn.metrics import roc_curve"
   ]
  },
  {
   "cell_type": "code",
   "execution_count": 33,
   "metadata": {
    "collapsed": false
   },
   "outputs": [],
   "source": [
    "seed = 7\n",
    "\n",
    "\n",
    "pipelines = []\n",
    "pipelines.append(('SVM-L', Pipeline([('Scaler', StandardScaler()),('SVM-L', SVC(random_state=seed, probability=True, kernel=\"linear\", C=svmlTunedC))])))\n",
    "pipelines.append(('SVM-P', Pipeline([('Scaler', StandardScaler()),('SVM-P', SVC(random_state=seed, probability=True, kernel=\"poly\", C=svmpTunedC, degree=svmpTunedDegree))])))\n",
    "pipelines.append(('SVM-G', Pipeline([('Scaler', StandardScaler()),('SVM-G', SVC(random_state=seed, probability=True, kernel=\"rbf\", C=svmgTunedC, gamma=svmgTunedGamma))])))"
   ]
  },
  {
   "cell_type": "code",
   "execution_count": 34,
   "metadata": {
    "collapsed": false
   },
   "outputs": [
    {
     "name": "stdout",
     "output_type": "stream",
     "text": [
      "SVM-L: 0.845542\n",
      "SVM-P: 0.811901\n",
      "SVM-G: 0.805028\n"
     ]
    }
   ],
   "source": [
    "# Make predictions on test dataset\n",
    "results = []\n",
    "names = []\n",
    "for name, model in pipelines:\n",
    "    model.fit(X_train,Y_train)\n",
    "    fpr, tpr, thresholds = roc_curve(Y_test,model.predict_proba(X_test)[:,1])\n",
    "    result = auc(fpr,tpr)\n",
    "    results.append(result)\n",
    "    names.append(name)\n",
    "    msg = \"%s: %f\" % (name, result)\n",
    "    print(msg)"
   ]
  }
 ],
 "metadata": {
  "kernelspec": {
   "display_name": "Python 2",
   "language": "python",
   "name": "python2"
  },
  "language_info": {
   "codemirror_mode": {
    "name": "ipython",
    "version": 2
   },
   "file_extension": ".py",
   "mimetype": "text/x-python",
   "name": "python",
   "nbconvert_exporter": "python",
   "pygments_lexer": "ipython2",
   "version": "2.7.12"
  }
 },
 "nbformat": 4,
 "nbformat_minor": 1
}
