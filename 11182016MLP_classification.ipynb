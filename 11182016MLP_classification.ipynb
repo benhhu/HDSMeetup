{
 "cells": [
  {
   "cell_type": "code",
   "execution_count": 1,
   "metadata": {
    "collapsed": false
   },
   "outputs": [],
   "source": [
    "import pandas as pd"
   ]
  },
  {
   "cell_type": "markdown",
   "metadata": {},
   "source": [
    "## Download PIMA Indians Diabetes dataset"
   ]
  },
  {
   "cell_type": "markdown",
   "metadata": {},
   "source": [
    "1. Number of times pregnant \n",
    "2. Plasma glucose concentration a 2 hours in an oral glucose tolerance test \n",
    "3. Diastolic blood pressure (mm Hg) \n",
    "4. Triceps skin fold thickness (mm) \n",
    "5. 2-Hour serum insulin (mu U/ml) \n",
    "6. Body mass index (weight in kg/(height in m)^2) \n",
    "7. Diabetes pedigree function \n",
    "8. Age (years) \n",
    "9. Class variable (0 or 1) "
   ]
  },
  {
   "cell_type": "code",
   "execution_count": 2,
   "metadata": {
    "collapsed": false
   },
   "outputs": [],
   "source": [
    "url = \"https://archive.ics.uci.edu/ml/machine-learning-databases/pima-indians-diabetes/pima-indians-diabetes.data\"\n",
    "names = ['preg', 'plas', 'pres', 'skin', 'test', 'mass', 'pedi', 'age', 'class']\n",
    "dataset = pd.read_csv(url, names=names)"
   ]
  },
  {
   "cell_type": "markdown",
   "metadata": {},
   "source": [
    "## Summarize Data"
   ]
  },
  {
   "cell_type": "code",
   "execution_count": 3,
   "metadata": {
    "collapsed": false
   },
   "outputs": [
    {
     "name": "stdout",
     "output_type": "stream",
     "text": [
      "(768, 9)\n",
      "preg       int64\n",
      "plas       int64\n",
      "pres       int64\n",
      "skin       int64\n",
      "test       int64\n",
      "mass     float64\n",
      "pedi     float64\n",
      "age        int64\n",
      "class      int64\n",
      "dtype: object\n"
     ]
    }
   ],
   "source": [
    "print(dataset.shape)\n",
    "print(dataset.dtypes)"
   ]
  },
  {
   "cell_type": "code",
   "execution_count": 4,
   "metadata": {
    "collapsed": false
   },
   "outputs": [
    {
     "name": "stdout",
     "output_type": "stream",
     "text": [
      "    preg  plas  pres  skin  test  mass   pedi  age  class\n",
      "0      6   148    72    35     0  33.6  0.627   50      1\n",
      "1      1    85    66    29     0  26.6  0.351   31      0\n",
      "2      8   183    64     0     0  23.3  0.672   32      1\n",
      "3      1    89    66    23    94  28.1  0.167   21      0\n",
      "4      0   137    40    35   168  43.1  2.288   33      1\n",
      "5      5   116    74     0     0  25.6  0.201   30      0\n",
      "6      3    78    50    32    88  31.0  0.248   26      1\n",
      "7     10   115     0     0     0  35.3  0.134   29      0\n",
      "8      2   197    70    45   543  30.5  0.158   53      1\n",
      "9      8   125    96     0     0   0.0  0.232   54      1\n",
      "10     4   110    92     0     0  37.6  0.191   30      0\n",
      "11    10   168    74     0     0  38.0  0.537   34      1\n",
      "12    10   139    80     0     0  27.1  1.441   57      0\n",
      "13     1   189    60    23   846  30.1  0.398   59      1\n",
      "14     5   166    72    19   175  25.8  0.587   51      1\n",
      "15     7   100     0     0     0  30.0  0.484   32      1\n",
      "16     0   118    84    47   230  45.8  0.551   31      1\n",
      "17     7   107    74     0     0  29.6  0.254   31      1\n",
      "18     1   103    30    38    83  43.3  0.183   33      0\n",
      "19     1   115    70    30    96  34.6  0.529   32      1\n"
     ]
    }
   ],
   "source": [
    "print(dataset.head(20))"
   ]
  },
  {
   "cell_type": "markdown",
   "metadata": {},
   "source": [
    "# The first model"
   ]
  },
  {
   "cell_type": "markdown",
   "metadata": {
    "collapsed": true
   },
   "source": [
    "![title](img/MLP1.PNG)"
   ]
  },
  {
   "cell_type": "code",
   "execution_count": 5,
   "metadata": {
    "collapsed": false
   },
   "outputs": [
    {
     "name": "stderr",
     "output_type": "stream",
     "text": [
      "Using TensorFlow backend.\n"
     ]
    }
   ],
   "source": [
    "from keras.models import Sequential\n",
    "from keras.layers import Dense\n",
    "import numpy as np"
   ]
  },
  {
   "cell_type": "code",
   "execution_count": 6,
   "metadata": {
    "collapsed": false
   },
   "outputs": [],
   "source": [
    "seed = 7\n",
    "np.random.seed(seed)"
   ]
  },
  {
   "cell_type": "code",
   "execution_count": 7,
   "metadata": {
    "collapsed": true
   },
   "outputs": [],
   "source": [
    "array = dataset.values\n",
    "X = array[:,0:8]\n",
    "Y = array[:,8]"
   ]
  },
  {
   "cell_type": "code",
   "execution_count": 8,
   "metadata": {
    "collapsed": true
   },
   "outputs": [],
   "source": [
    "# create model\n",
    "model = Sequential()\n",
    "model.add(Dense(12, input_dim=8, init='uniform', activation='relu'))\n",
    "model.add(Dense(8, init='uniform', activation='relu'))\n",
    "model.add(Dense(1, init='uniform', activation='sigmoid'))"
   ]
  },
  {
   "cell_type": "code",
   "execution_count": 9,
   "metadata": {
    "collapsed": false
   },
   "outputs": [],
   "source": [
    "# compile model\n",
    "model.compile(loss='binary_crossentropy',optimizer='adam',metrics=['accuracy'])"
   ]
  },
  {
   "cell_type": "code",
   "execution_count": 10,
   "metadata": {
    "collapsed": false
   },
   "outputs": [
    {
     "data": {
      "text/plain": [
       "<keras.callbacks.History at 0x7f2618870d50>"
      ]
     },
     "execution_count": 10,
     "metadata": {},
     "output_type": "execute_result"
    }
   ],
   "source": [
    "# fit model\n",
    "model.fit(X, Y, nb_epoch=150, batch_size=10,verbose=0)"
   ]
  },
  {
   "cell_type": "code",
   "execution_count": 11,
   "metadata": {
    "collapsed": false
   },
   "outputs": [
    {
     "name": "stdout",
     "output_type": "stream",
     "text": [
      "704/768 [==========================>...] - ETA: 0sacc: 77.73%\n"
     ]
    }
   ],
   "source": [
    "# evaluate model\n",
    "scores = model.evaluate(X,Y)\n",
    "print(\"%s: %.2f%%\" % (model.metrics_names[1], scores[1]*100))"
   ]
  },
  {
   "cell_type": "markdown",
   "metadata": {
    "collapsed": true
   },
   "source": [
    "# Use a validation dataset"
   ]
  },
  {
   "cell_type": "code",
   "execution_count": 12,
   "metadata": {
    "collapsed": false
   },
   "outputs": [
    {
     "name": "stderr",
     "output_type": "stream",
     "text": [
      "/home/huihu/.local/lib/python2.7/site-packages/sklearn/cross_validation.py:44: DeprecationWarning: This module was deprecated in version 0.18 in favor of the model_selection module into which all the refactored classes and functions are moved. Also note that the interface of the new CV iterators are different from that of this module. This module will be removed in 0.20.\n",
      "  \"This module will be removed in 0.20.\", DeprecationWarning)\n"
     ]
    }
   ],
   "source": [
    "from sklearn import cross_validation"
   ]
  },
  {
   "cell_type": "code",
   "execution_count": 13,
   "metadata": {
    "collapsed": true
   },
   "outputs": [],
   "source": [
    "array = dataset.values\n",
    "X = array[:,0:8]\n",
    "Y = array[:,8]\n",
    "\n",
    "validation_size = 0.20\n",
    "X_train, X_test, Y_train, Y_test = cross_validation.train_test_split(X, Y, test_size=validation_size, random_state=seed)"
   ]
  },
  {
   "cell_type": "code",
   "execution_count": 14,
   "metadata": {
    "collapsed": true
   },
   "outputs": [],
   "source": [
    "# create model\n",
    "model = Sequential()\n",
    "model.add(Dense(12, input_dim=8, init='uniform', activation='relu'))\n",
    "model.add(Dense(8, init='uniform', activation='relu'))\n",
    "model.add(Dense(1, init='uniform', activation='sigmoid'))"
   ]
  },
  {
   "cell_type": "code",
   "execution_count": 15,
   "metadata": {
    "collapsed": true
   },
   "outputs": [],
   "source": [
    "# compile model\n",
    "model.compile(loss='binary_crossentropy',optimizer='adam',metrics=['accuracy'])"
   ]
  },
  {
   "cell_type": "code",
   "execution_count": 16,
   "metadata": {
    "collapsed": false
   },
   "outputs": [
    {
     "name": "stdout",
     "output_type": "stream",
     "text": [
      "Train on 614 samples, validate on 154 samples\n",
      "Epoch 1/150\n",
      "614/614 [==============================] - 0s - loss: 0.6792 - acc: 0.6547 - val_loss: 0.6770 - val_acc: 0.6299\n",
      "Epoch 2/150\n",
      "614/614 [==============================] - 0s - loss: 0.6614 - acc: 0.6564 - val_loss: 0.6614 - val_acc: 0.6299\n",
      "Epoch 3/150\n",
      "614/614 [==============================] - 0s - loss: 0.6484 - acc: 0.6564 - val_loss: 0.6460 - val_acc: 0.6429\n",
      "Epoch 4/150\n",
      "614/614 [==============================] - 0s - loss: 0.6337 - acc: 0.6629 - val_loss: 0.6263 - val_acc: 0.6364\n",
      "Epoch 5/150\n",
      "614/614 [==============================] - 0s - loss: 0.6255 - acc: 0.6710 - val_loss: 0.6200 - val_acc: 0.7143\n",
      "Epoch 6/150\n",
      "614/614 [==============================] - 0s - loss: 0.6155 - acc: 0.6792 - val_loss: 0.6181 - val_acc: 0.6558\n",
      "Epoch 7/150\n",
      "614/614 [==============================] - 0s - loss: 0.6004 - acc: 0.6726 - val_loss: 0.6045 - val_acc: 0.7273\n",
      "Epoch 8/150\n",
      "614/614 [==============================] - 0s - loss: 0.6111 - acc: 0.6759 - val_loss: 0.5983 - val_acc: 0.6883\n",
      "Epoch 9/150\n",
      "614/614 [==============================] - 0s - loss: 0.5972 - acc: 0.6710 - val_loss: 0.5902 - val_acc: 0.7403\n",
      "Epoch 10/150\n",
      "614/614 [==============================] - 0s - loss: 0.5970 - acc: 0.6840 - val_loss: 0.5904 - val_acc: 0.7468\n",
      "Epoch 11/150\n",
      "614/614 [==============================] - 0s - loss: 0.5917 - acc: 0.6824 - val_loss: 0.5965 - val_acc: 0.7403\n",
      "Epoch 12/150\n",
      "614/614 [==============================] - 0s - loss: 0.5919 - acc: 0.6792 - val_loss: 0.5841 - val_acc: 0.7013\n",
      "Epoch 13/150\n",
      "614/614 [==============================] - 0s - loss: 0.5927 - acc: 0.6987 - val_loss: 0.5850 - val_acc: 0.7208\n",
      "Epoch 14/150\n",
      "614/614 [==============================] - 0s - loss: 0.5931 - acc: 0.6954 - val_loss: 0.5816 - val_acc: 0.7403\n",
      "Epoch 15/150\n",
      "614/614 [==============================] - 0s - loss: 0.5858 - acc: 0.6792 - val_loss: 0.6229 - val_acc: 0.6494\n",
      "Epoch 16/150\n",
      "614/614 [==============================] - 0s - loss: 0.5819 - acc: 0.6987 - val_loss: 0.5827 - val_acc: 0.7078\n",
      "Epoch 17/150\n",
      "614/614 [==============================] - 0s - loss: 0.5771 - acc: 0.7134 - val_loss: 0.5835 - val_acc: 0.7662\n",
      "Epoch 18/150\n",
      "614/614 [==============================] - 0s - loss: 0.5804 - acc: 0.6922 - val_loss: 0.5825 - val_acc: 0.7013\n",
      "Epoch 19/150\n",
      "614/614 [==============================] - 0s - loss: 0.5745 - acc: 0.6954 - val_loss: 0.5872 - val_acc: 0.6818\n",
      "Epoch 20/150\n",
      "614/614 [==============================] - 0s - loss: 0.5752 - acc: 0.7036 - val_loss: 0.5770 - val_acc: 0.7078\n",
      "Epoch 21/150\n",
      "614/614 [==============================] - 0s - loss: 0.5741 - acc: 0.7101 - val_loss: 0.5974 - val_acc: 0.6688\n",
      "Epoch 22/150\n",
      "614/614 [==============================] - 0s - loss: 0.5720 - acc: 0.7134 - val_loss: 0.5778 - val_acc: 0.7662\n",
      "Epoch 23/150\n",
      "614/614 [==============================] - 0s - loss: 0.5732 - acc: 0.6938 - val_loss: 0.5675 - val_acc: 0.7662\n",
      "Epoch 24/150\n",
      "614/614 [==============================] - 0s - loss: 0.5686 - acc: 0.7068 - val_loss: 0.5650 - val_acc: 0.7208\n",
      "Epoch 25/150\n",
      "614/614 [==============================] - 0s - loss: 0.5694 - acc: 0.6971 - val_loss: 0.5717 - val_acc: 0.7273\n",
      "Epoch 26/150\n",
      "614/614 [==============================] - 0s - loss: 0.5761 - acc: 0.7003 - val_loss: 0.5698 - val_acc: 0.7468\n",
      "Epoch 27/150\n",
      "614/614 [==============================] - 0s - loss: 0.5752 - acc: 0.6987 - val_loss: 0.5660 - val_acc: 0.7662\n",
      "Epoch 28/150\n",
      "614/614 [==============================] - 0s - loss: 0.5683 - acc: 0.6971 - val_loss: 0.5643 - val_acc: 0.7208\n",
      "Epoch 29/150\n",
      "614/614 [==============================] - 0s - loss: 0.5604 - acc: 0.6971 - val_loss: 0.5676 - val_acc: 0.7143\n",
      "Epoch 30/150\n",
      "614/614 [==============================] - 0s - loss: 0.5673 - acc: 0.7036 - val_loss: 0.5639 - val_acc: 0.7338\n",
      "Epoch 31/150\n",
      "614/614 [==============================] - 0s - loss: 0.5558 - acc: 0.7199 - val_loss: 0.5587 - val_acc: 0.7143\n",
      "Epoch 32/150\n",
      "614/614 [==============================] - 0s - loss: 0.5541 - acc: 0.7231 - val_loss: 0.5639 - val_acc: 0.7468\n",
      "Epoch 33/150\n",
      "614/614 [==============================] - 0s - loss: 0.5498 - acc: 0.7117 - val_loss: 0.5887 - val_acc: 0.7013\n",
      "Epoch 34/150\n",
      "614/614 [==============================] - 0s - loss: 0.5449 - acc: 0.7264 - val_loss: 0.5770 - val_acc: 0.7143\n",
      "Epoch 35/150\n",
      "614/614 [==============================] - 0s - loss: 0.5472 - acc: 0.7329 - val_loss: 0.5547 - val_acc: 0.7597\n",
      "Epoch 36/150\n",
      "614/614 [==============================] - 0s - loss: 0.5476 - acc: 0.7329 - val_loss: 0.5605 - val_acc: 0.7597\n",
      "Epoch 37/150\n",
      "614/614 [==============================] - 0s - loss: 0.5481 - acc: 0.7296 - val_loss: 0.5568 - val_acc: 0.7727\n",
      "Epoch 38/150\n",
      "614/614 [==============================] - 0s - loss: 0.5523 - acc: 0.7231 - val_loss: 0.5453 - val_acc: 0.7792\n",
      "Epoch 39/150\n",
      "614/614 [==============================] - 0s - loss: 0.5452 - acc: 0.7215 - val_loss: 0.5527 - val_acc: 0.7792\n",
      "Epoch 40/150\n",
      "614/614 [==============================] - 0s - loss: 0.5552 - acc: 0.7101 - val_loss: 0.5554 - val_acc: 0.7792\n",
      "Epoch 41/150\n",
      "614/614 [==============================] - 0s - loss: 0.5484 - acc: 0.7280 - val_loss: 0.5410 - val_acc: 0.8052\n",
      "Epoch 42/150\n",
      "614/614 [==============================] - 0s - loss: 0.5441 - acc: 0.7182 - val_loss: 0.5398 - val_acc: 0.7532\n",
      "Epoch 43/150\n",
      "614/614 [==============================] - 0s - loss: 0.5417 - acc: 0.7199 - val_loss: 0.5468 - val_acc: 0.7532\n",
      "Epoch 44/150\n",
      "614/614 [==============================] - 0s - loss: 0.5370 - acc: 0.7313 - val_loss: 0.5499 - val_acc: 0.7403\n",
      "Epoch 45/150\n",
      "614/614 [==============================] - 0s - loss: 0.5363 - acc: 0.7182 - val_loss: 0.5383 - val_acc: 0.8052\n",
      "Epoch 46/150\n",
      "614/614 [==============================] - 0s - loss: 0.5367 - acc: 0.7215 - val_loss: 0.5523 - val_acc: 0.7792\n",
      "Epoch 47/150\n",
      "614/614 [==============================] - 0s - loss: 0.5447 - acc: 0.7199 - val_loss: 0.5913 - val_acc: 0.6818\n",
      "Epoch 48/150\n",
      "614/614 [==============================] - 0s - loss: 0.5262 - acc: 0.7378 - val_loss: 0.5555 - val_acc: 0.7597\n",
      "Epoch 49/150\n",
      "614/614 [==============================] - 0s - loss: 0.5274 - acc: 0.7313 - val_loss: 0.5497 - val_acc: 0.7662\n",
      "Epoch 50/150\n",
      "614/614 [==============================] - 0s - loss: 0.5323 - acc: 0.7329 - val_loss: 0.5471 - val_acc: 0.7922\n",
      "Epoch 51/150\n",
      "614/614 [==============================] - 0s - loss: 0.5411 - acc: 0.7280 - val_loss: 0.5374 - val_acc: 0.7662\n",
      "Epoch 52/150\n",
      "614/614 [==============================] - 0s - loss: 0.5222 - acc: 0.7362 - val_loss: 0.5375 - val_acc: 0.7662\n",
      "Epoch 53/150\n",
      "614/614 [==============================] - 0s - loss: 0.5238 - acc: 0.7313 - val_loss: 0.5296 - val_acc: 0.7792\n",
      "Epoch 54/150\n",
      "614/614 [==============================] - 0s - loss: 0.5264 - acc: 0.7378 - val_loss: 0.5263 - val_acc: 0.7922\n",
      "Epoch 55/150\n",
      "614/614 [==============================] - 0s - loss: 0.5303 - acc: 0.7280 - val_loss: 0.5289 - val_acc: 0.8052\n",
      "Epoch 56/150\n",
      "614/614 [==============================] - 0s - loss: 0.5181 - acc: 0.7427 - val_loss: 0.5448 - val_acc: 0.8117\n",
      "Epoch 57/150\n",
      "614/614 [==============================] - 0s - loss: 0.5242 - acc: 0.7443 - val_loss: 0.5528 - val_acc: 0.7662\n",
      "Epoch 58/150\n",
      "614/614 [==============================] - 0s - loss: 0.5241 - acc: 0.7199 - val_loss: 0.5590 - val_acc: 0.7273\n",
      "Epoch 59/150\n",
      "614/614 [==============================] - 0s - loss: 0.5243 - acc: 0.7443 - val_loss: 0.5280 - val_acc: 0.8117\n",
      "Epoch 60/150\n",
      "614/614 [==============================] - 0s - loss: 0.5168 - acc: 0.7410 - val_loss: 0.5395 - val_acc: 0.7857\n",
      "Epoch 61/150\n",
      "614/614 [==============================] - 0s - loss: 0.5083 - acc: 0.7459 - val_loss: 0.6173 - val_acc: 0.6818\n",
      "Epoch 62/150\n",
      "614/614 [==============================] - 0s - loss: 0.5229 - acc: 0.7264 - val_loss: 0.5507 - val_acc: 0.7468\n",
      "Epoch 63/150\n",
      "614/614 [==============================] - 0s - loss: 0.5253 - acc: 0.7117 - val_loss: 0.5324 - val_acc: 0.7727\n",
      "Epoch 64/150\n",
      "614/614 [==============================] - 0s - loss: 0.5106 - acc: 0.7427 - val_loss: 0.5204 - val_acc: 0.7857\n",
      "Epoch 65/150\n",
      "614/614 [==============================] - 0s - loss: 0.5109 - acc: 0.7394 - val_loss: 0.5575 - val_acc: 0.7273\n",
      "Epoch 66/150\n",
      "614/614 [==============================] - 0s - loss: 0.5051 - acc: 0.7362 - val_loss: 0.5679 - val_acc: 0.7403\n",
      "Epoch 67/150\n",
      "614/614 [==============================] - 0s - loss: 0.5077 - acc: 0.7410 - val_loss: 0.5326 - val_acc: 0.7987\n",
      "Epoch 68/150\n",
      "614/614 [==============================] - 0s - loss: 0.5148 - acc: 0.7280 - val_loss: 0.5181 - val_acc: 0.7792\n",
      "Epoch 69/150\n",
      "614/614 [==============================] - 0s - loss: 0.5015 - acc: 0.7492 - val_loss: 0.5454 - val_acc: 0.7338\n",
      "Epoch 70/150\n",
      "614/614 [==============================] - 0s - loss: 0.5108 - acc: 0.7476 - val_loss: 0.5249 - val_acc: 0.8117\n",
      "Epoch 71/150\n",
      "614/614 [==============================] - 0s - loss: 0.5063 - acc: 0.7199 - val_loss: 0.5496 - val_acc: 0.7468\n",
      "Epoch 72/150\n",
      "614/614 [==============================] - 0s - loss: 0.5038 - acc: 0.7459 - val_loss: 0.5380 - val_acc: 0.7987\n",
      "Epoch 73/150\n",
      "614/614 [==============================] - 0s - loss: 0.5046 - acc: 0.7362 - val_loss: 0.5384 - val_acc: 0.7727\n",
      "Epoch 74/150\n",
      "614/614 [==============================] - 0s - loss: 0.4989 - acc: 0.7541 - val_loss: 0.5148 - val_acc: 0.8247\n",
      "Epoch 75/150\n",
      "614/614 [==============================] - 0s - loss: 0.4971 - acc: 0.7476 - val_loss: 0.5172 - val_acc: 0.7922\n",
      "Epoch 76/150\n",
      "614/614 [==============================] - 0s - loss: 0.4969 - acc: 0.7427 - val_loss: 0.5508 - val_acc: 0.7532\n",
      "Epoch 77/150\n",
      "614/614 [==============================] - 0s - loss: 0.5096 - acc: 0.7557 - val_loss: 0.5614 - val_acc: 0.7468\n",
      "Epoch 78/150\n",
      "614/614 [==============================] - 0s - loss: 0.4989 - acc: 0.7541 - val_loss: 0.5199 - val_acc: 0.7987\n",
      "Epoch 79/150\n",
      "614/614 [==============================] - 0s - loss: 0.4919 - acc: 0.7687 - val_loss: 0.5352 - val_acc: 0.7662\n",
      "Epoch 80/150\n",
      "614/614 [==============================] - 0s - loss: 0.5017 - acc: 0.7427 - val_loss: 0.5147 - val_acc: 0.7987\n",
      "Epoch 81/150\n",
      "614/614 [==============================] - 0s - loss: 0.4943 - acc: 0.7345 - val_loss: 0.5135 - val_acc: 0.8247\n",
      "Epoch 82/150\n",
      "614/614 [==============================] - 0s - loss: 0.5118 - acc: 0.7362 - val_loss: 0.5281 - val_acc: 0.7727\n",
      "Epoch 83/150\n",
      "614/614 [==============================] - 0s - loss: 0.4909 - acc: 0.7394 - val_loss: 0.5107 - val_acc: 0.8052\n",
      "Epoch 84/150\n",
      "614/614 [==============================] - 0s - loss: 0.4975 - acc: 0.7443 - val_loss: 0.5196 - val_acc: 0.8052\n",
      "Epoch 85/150\n",
      "614/614 [==============================] - 0s - loss: 0.4941 - acc: 0.7492 - val_loss: 0.5160 - val_acc: 0.7727\n",
      "Epoch 86/150\n",
      "614/614 [==============================] - 0s - loss: 0.4938 - acc: 0.7492 - val_loss: 0.5114 - val_acc: 0.8117\n",
      "Epoch 87/150\n",
      "614/614 [==============================] - 0s - loss: 0.4877 - acc: 0.7476 - val_loss: 0.5087 - val_acc: 0.8052\n",
      "Epoch 88/150\n",
      "614/614 [==============================] - 0s - loss: 0.4879 - acc: 0.7524 - val_loss: 0.5325 - val_acc: 0.7857\n",
      "Epoch 89/150\n",
      "614/614 [==============================] - 0s - loss: 0.4885 - acc: 0.7557 - val_loss: 0.5210 - val_acc: 0.7662\n",
      "Epoch 90/150\n",
      "614/614 [==============================] - 0s - loss: 0.4875 - acc: 0.7557 - val_loss: 0.5155 - val_acc: 0.7987\n",
      "Epoch 91/150\n",
      "614/614 [==============================] - 0s - loss: 0.4949 - acc: 0.7410 - val_loss: 0.5351 - val_acc: 0.7468\n",
      "Epoch 92/150\n",
      "614/614 [==============================] - 0s - loss: 0.4855 - acc: 0.7590 - val_loss: 0.5173 - val_acc: 0.7922\n",
      "Epoch 93/150\n",
      "614/614 [==============================] - 0s - loss: 0.4866 - acc: 0.7622 - val_loss: 0.5098 - val_acc: 0.7987\n",
      "Epoch 94/150\n",
      "614/614 [==============================] - 0s - loss: 0.4892 - acc: 0.7476 - val_loss: 0.5421 - val_acc: 0.7597\n",
      "Epoch 95/150\n",
      "614/614 [==============================] - 0s - loss: 0.5023 - acc: 0.7459 - val_loss: 0.5123 - val_acc: 0.8052\n",
      "Epoch 96/150\n",
      "614/614 [==============================] - 0s - loss: 0.4919 - acc: 0.7476 - val_loss: 0.5492 - val_acc: 0.7597\n",
      "Epoch 97/150\n",
      "614/614 [==============================] - 0s - loss: 0.4820 - acc: 0.7622 - val_loss: 0.5250 - val_acc: 0.7597\n",
      "Epoch 98/150\n",
      "614/614 [==============================] - 0s - loss: 0.4855 - acc: 0.7508 - val_loss: 0.5101 - val_acc: 0.8182\n",
      "Epoch 99/150\n",
      "614/614 [==============================] - 0s - loss: 0.4820 - acc: 0.7492 - val_loss: 0.5268 - val_acc: 0.7662\n",
      "Epoch 100/150\n",
      "614/614 [==============================] - 0s - loss: 0.4849 - acc: 0.7524 - val_loss: 0.5441 - val_acc: 0.7597\n",
      "Epoch 101/150\n",
      "614/614 [==============================] - 0s - loss: 0.4786 - acc: 0.7508 - val_loss: 0.5235 - val_acc: 0.8052\n",
      "Epoch 102/150\n",
      "614/614 [==============================] - 0s - loss: 0.4768 - acc: 0.7606 - val_loss: 0.5081 - val_acc: 0.8052\n",
      "Epoch 103/150\n",
      "614/614 [==============================] - 0s - loss: 0.4750 - acc: 0.7524 - val_loss: 0.5306 - val_acc: 0.8182\n",
      "Epoch 104/150\n",
      "614/614 [==============================] - 0s - loss: 0.4804 - acc: 0.7687 - val_loss: 0.5151 - val_acc: 0.8052\n",
      "Epoch 105/150\n",
      "614/614 [==============================] - 0s - loss: 0.4734 - acc: 0.7638 - val_loss: 0.5203 - val_acc: 0.7922\n",
      "Epoch 106/150\n",
      "614/614 [==============================] - 0s - loss: 0.4768 - acc: 0.7655 - val_loss: 0.5194 - val_acc: 0.7792\n",
      "Epoch 107/150\n",
      "614/614 [==============================] - 0s - loss: 0.4737 - acc: 0.7590 - val_loss: 0.5027 - val_acc: 0.8247\n",
      "Epoch 108/150\n",
      "614/614 [==============================] - 0s - loss: 0.4676 - acc: 0.7655 - val_loss: 0.5164 - val_acc: 0.7857\n",
      "Epoch 109/150\n",
      "614/614 [==============================] - 0s - loss: 0.4748 - acc: 0.7687 - val_loss: 0.5009 - val_acc: 0.8052\n",
      "Epoch 110/150\n",
      "614/614 [==============================] - 0s - loss: 0.4682 - acc: 0.7720 - val_loss: 0.5295 - val_acc: 0.7922\n",
      "Epoch 111/150\n",
      "614/614 [==============================] - 0s - loss: 0.4717 - acc: 0.7655 - val_loss: 0.5288 - val_acc: 0.7987\n",
      "Epoch 112/150\n",
      "614/614 [==============================] - 0s - loss: 0.4829 - acc: 0.7508 - val_loss: 0.5484 - val_acc: 0.7532\n",
      "Epoch 113/150\n",
      "614/614 [==============================] - 0s - loss: 0.4809 - acc: 0.7655 - val_loss: 0.5164 - val_acc: 0.7792\n",
      "Epoch 114/150\n",
      "614/614 [==============================] - 0s - loss: 0.4686 - acc: 0.7720 - val_loss: 0.5226 - val_acc: 0.7987\n",
      "Epoch 115/150\n",
      "614/614 [==============================] - 0s - loss: 0.4649 - acc: 0.7655 - val_loss: 0.5032 - val_acc: 0.7987\n",
      "Epoch 116/150\n",
      "614/614 [==============================] - 0s - loss: 0.4663 - acc: 0.7638 - val_loss: 0.4989 - val_acc: 0.7987\n",
      "Epoch 117/150\n",
      "614/614 [==============================] - 0s - loss: 0.4674 - acc: 0.7541 - val_loss: 0.4997 - val_acc: 0.7857\n",
      "Epoch 118/150\n",
      "614/614 [==============================] - 0s - loss: 0.4928 - acc: 0.7476 - val_loss: 0.5121 - val_acc: 0.8117\n",
      "Epoch 119/150\n",
      "614/614 [==============================] - 0s - loss: 0.4741 - acc: 0.7655 - val_loss: 0.5011 - val_acc: 0.8117\n",
      "Epoch 120/150\n",
      "614/614 [==============================] - 0s - loss: 0.4693 - acc: 0.7671 - val_loss: 0.5045 - val_acc: 0.8247\n",
      "Epoch 121/150\n",
      "614/614 [==============================] - 0s - loss: 0.4610 - acc: 0.7736 - val_loss: 0.5004 - val_acc: 0.8377\n",
      "Epoch 122/150\n",
      "614/614 [==============================] - 0s - loss: 0.4660 - acc: 0.7638 - val_loss: 0.5024 - val_acc: 0.8247\n",
      "Epoch 123/150\n",
      "614/614 [==============================] - 0s - loss: 0.4811 - acc: 0.7687 - val_loss: 0.5016 - val_acc: 0.8182\n",
      "Epoch 124/150\n",
      "614/614 [==============================] - 0s - loss: 0.4612 - acc: 0.7752 - val_loss: 0.5316 - val_acc: 0.7403\n",
      "Epoch 125/150\n",
      "614/614 [==============================] - 0s - loss: 0.4672 - acc: 0.7720 - val_loss: 0.5051 - val_acc: 0.8052\n",
      "Epoch 126/150\n",
      "614/614 [==============================] - 0s - loss: 0.4635 - acc: 0.7818 - val_loss: 0.5171 - val_acc: 0.7987\n",
      "Epoch 127/150\n",
      "614/614 [==============================] - 0s - loss: 0.4695 - acc: 0.7671 - val_loss: 0.5148 - val_acc: 0.7792\n",
      "Epoch 128/150\n",
      "614/614 [==============================] - 0s - loss: 0.4584 - acc: 0.7720 - val_loss: 0.4999 - val_acc: 0.7922\n",
      "Epoch 129/150\n",
      "614/614 [==============================] - 0s - loss: 0.4561 - acc: 0.7687 - val_loss: 0.5160 - val_acc: 0.7922\n",
      "Epoch 130/150\n",
      "614/614 [==============================] - 0s - loss: 0.4561 - acc: 0.7638 - val_loss: 0.5258 - val_acc: 0.7792\n",
      "Epoch 131/150\n",
      "614/614 [==============================] - 0s - loss: 0.4528 - acc: 0.7638 - val_loss: 0.5006 - val_acc: 0.7922\n",
      "Epoch 132/150\n",
      "614/614 [==============================] - 0s - loss: 0.4612 - acc: 0.7573 - val_loss: 0.5305 - val_acc: 0.7662\n",
      "Epoch 133/150\n",
      "614/614 [==============================] - 0s - loss: 0.4467 - acc: 0.7818 - val_loss: 0.5186 - val_acc: 0.7792\n",
      "Epoch 134/150\n",
      "614/614 [==============================] - 0s - loss: 0.4530 - acc: 0.7866 - val_loss: 0.5125 - val_acc: 0.7987\n",
      "Epoch 135/150\n",
      "614/614 [==============================] - 0s - loss: 0.4506 - acc: 0.7818 - val_loss: 0.5165 - val_acc: 0.8052\n",
      "Epoch 136/150\n",
      "614/614 [==============================] - 0s - loss: 0.4495 - acc: 0.7736 - val_loss: 0.5257 - val_acc: 0.7857\n",
      "Epoch 137/150\n",
      "614/614 [==============================] - 0s - loss: 0.4644 - acc: 0.7736 - val_loss: 0.4983 - val_acc: 0.7987\n",
      "Epoch 138/150\n",
      "614/614 [==============================] - 0s - loss: 0.4634 - acc: 0.7622 - val_loss: 0.5006 - val_acc: 0.8117\n",
      "Epoch 139/150\n",
      "614/614 [==============================] - 0s - loss: 0.4541 - acc: 0.7736 - val_loss: 0.5049 - val_acc: 0.7662\n",
      "Epoch 140/150\n",
      "614/614 [==============================] - 0s - loss: 0.4520 - acc: 0.7704 - val_loss: 0.5325 - val_acc: 0.7727\n",
      "Epoch 141/150\n",
      "614/614 [==============================] - 0s - loss: 0.4520 - acc: 0.7720 - val_loss: 0.5318 - val_acc: 0.7792\n",
      "Epoch 142/150\n",
      "614/614 [==============================] - 0s - loss: 0.4683 - acc: 0.7866 - val_loss: 0.5074 - val_acc: 0.8117\n",
      "Epoch 143/150\n",
      "614/614 [==============================] - 0s - loss: 0.4473 - acc: 0.7785 - val_loss: 0.5081 - val_acc: 0.7922\n",
      "Epoch 144/150\n",
      "614/614 [==============================] - 0s - loss: 0.4452 - acc: 0.7948 - val_loss: 0.5740 - val_acc: 0.7597\n",
      "Epoch 145/150\n",
      "614/614 [==============================] - 0s - loss: 0.4448 - acc: 0.7736 - val_loss: 0.5101 - val_acc: 0.7857\n",
      "Epoch 146/150\n",
      "614/614 [==============================] - 0s - loss: 0.4425 - acc: 0.7899 - val_loss: 0.5314 - val_acc: 0.7922\n",
      "Epoch 147/150\n",
      "614/614 [==============================] - 0s - loss: 0.4473 - acc: 0.7834 - val_loss: 0.5161 - val_acc: 0.7857\n",
      "Epoch 148/150\n",
      "614/614 [==============================] - 0s - loss: 0.4428 - acc: 0.7948 - val_loss: 0.5133 - val_acc: 0.7857\n",
      "Epoch 149/150\n",
      "614/614 [==============================] - 0s - loss: 0.4495 - acc: 0.7883 - val_loss: 0.5198 - val_acc: 0.7597\n",
      "Epoch 150/150\n",
      "614/614 [==============================] - 0s - loss: 0.4428 - acc: 0.7801 - val_loss: 0.5204 - val_acc: 0.7597\n"
     ]
    },
    {
     "data": {
      "text/plain": [
       "<keras.callbacks.History at 0x7f25ebeb87d0>"
      ]
     },
     "execution_count": 16,
     "metadata": {},
     "output_type": "execute_result"
    }
   ],
   "source": [
    "# fit model\n",
    "model.fit(X_train, Y_train, validation_data=(X_test,Y_test), nb_epoch=150, batch_size=10)"
   ]
  },
  {
   "cell_type": "markdown",
   "metadata": {},
   "source": [
    "# Manual k-Fold CV"
   ]
  },
  {
   "cell_type": "code",
   "execution_count": 17,
   "metadata": {
    "collapsed": true
   },
   "outputs": [],
   "source": [
    "from sklearn.model_selection import StratifiedKFold"
   ]
  },
  {
   "cell_type": "code",
   "execution_count": 18,
   "metadata": {
    "collapsed": true
   },
   "outputs": [],
   "source": [
    "# define 4-fold cross validation test harness\n",
    "kfold = StratifiedKFold(n_splits=4, shuffle=True, random_state=seed)\n",
    "cvscores = []"
   ]
  },
  {
   "cell_type": "code",
   "execution_count": 19,
   "metadata": {
    "collapsed": false
   },
   "outputs": [
    {
     "name": "stdout",
     "output_type": "stream",
     "text": [
      "acc: 73.44%\n",
      "acc: 83.85%\n",
      "acc: 72.40%\n",
      "acc: 75.52%\n"
     ]
    }
   ],
   "source": [
    "for train, test in kfold.split(X, Y):\n",
    "    # create model\n",
    "    model = Sequential()\n",
    "    model.add(Dense(12, input_dim=8, init= 'uniform' , activation= 'relu' ))\n",
    "    model.add(Dense(8, init= 'uniform' , activation= 'relu' ))\n",
    "    model.add(Dense(1, init= 'uniform' , activation= 'sigmoid' ))\n",
    "    # Compile model\n",
    "    model.compile(loss= 'binary_crossentropy' , optimizer= 'adam' , metrics=['accuracy'])\n",
    "    # Fit the model\n",
    "    model.fit(X[train], Y[train], nb_epoch=150, batch_size=10, verbose=0)\n",
    "    # evaluate the model\n",
    "    scores = model.evaluate(X[test], Y[test], verbose=0)\n",
    "    print(\"%s: %.2f%%\" % (model.metrics_names[1], scores[1]*100))\n",
    "    cvscores.append(scores[1] * 100)"
   ]
  },
  {
   "cell_type": "code",
   "execution_count": 20,
   "metadata": {
    "collapsed": false
   },
   "outputs": [
    {
     "name": "stdout",
     "output_type": "stream",
     "text": [
      "76.30% (+/- 4.50%)\n"
     ]
    }
   ],
   "source": [
    "print(\"%.2f%% (+/- %.2f%%)\" % (np.mean(cvscores), np.std(cvscores)))"
   ]
  },
  {
   "cell_type": "markdown",
   "metadata": {},
   "source": [
    "# Tune Parameters using Grid Search"
   ]
  },
  {
   "cell_type": "code",
   "execution_count": 21,
   "metadata": {
    "collapsed": true
   },
   "outputs": [],
   "source": [
    "from keras.wrappers.scikit_learn import KerasClassifier\n",
    "from sklearn.model_selection import GridSearchCV\n",
    "from sklearn.preprocessing import StandardScaler"
   ]
  },
  {
   "cell_type": "code",
   "execution_count": 22,
   "metadata": {
    "collapsed": true
   },
   "outputs": [],
   "source": [
    "validation_size = 0.20\n",
    "X_train, X_test, Y_train, Y_test = cross_validation.train_test_split(X, Y, test_size=validation_size, random_state=seed)"
   ]
  },
  {
   "cell_type": "code",
   "execution_count": 23,
   "metadata": {
    "collapsed": false
   },
   "outputs": [],
   "source": [
    "scaler = StandardScaler().fit(X_train)\n",
    "rescaledX_train = scaler.transform(X_train)"
   ]
  },
  {
   "cell_type": "code",
   "execution_count": 24,
   "metadata": {
    "collapsed": true
   },
   "outputs": [],
   "source": [
    "# Function to create model, required for KerasClassifier\n",
    "def create_model(optimizer= 'rmsprop' , init= 'uniform' ):\n",
    "    # create model\n",
    "    model = Sequential()\n",
    "    model.add(Dense(12, input_dim=8, init=init, activation= 'relu' ))\n",
    "    model.add(Dense(8, init=init, activation= 'relu' ))\n",
    "    model.add(Dense(1, init=init, activation= 'sigmoid' ))\n",
    "    # Compile model\n",
    "    model.compile(loss= 'binary_crossentropy' , optimizer=optimizer, metrics=[ 'accuracy' ])\n",
    "    return model"
   ]
  },
  {
   "cell_type": "code",
   "execution_count": 25,
   "metadata": {
    "collapsed": true
   },
   "outputs": [],
   "source": [
    "# create model\n",
    "model = KerasClassifier(build_fn=create_model, verbose=0)"
   ]
  },
  {
   "cell_type": "code",
   "execution_count": 26,
   "metadata": {
    "collapsed": false
   },
   "outputs": [],
   "source": [
    "# grid search epochs, batch size and optimizer\n",
    "optimizers = [ 'rmsprop' , 'adam' ]\n",
    "init = [ 'normal' , 'uniform' ]\n",
    "epochs = np.array([150])\n",
    "batches = np.array([5,10])\n",
    "param_grid = dict(optimizer=optimizers, nb_epoch=epochs, batch_size=batches, init=init)\n",
    "grid = GridSearchCV(estimator=model, param_grid=param_grid)\n",
    "grid_result = grid.fit(rescaledX_train, Y_train)"
   ]
  },
  {
   "cell_type": "code",
   "execution_count": 27,
   "metadata": {
    "collapsed": false
   },
   "outputs": [
    {
     "name": "stdout",
     "output_type": "stream",
     "text": [
      "Best: 0.763844 using {'init': 'normal', 'optimizer': 'rmsprop', 'nb_epoch': 150, 'batch_size': 5}\n"
     ]
    }
   ],
   "source": [
    "print(\"Best: %f using %s\" % (grid_result.best_score_, grid_result.best_params_))"
   ]
  },
  {
   "cell_type": "code",
   "execution_count": 29,
   "metadata": {
    "collapsed": false
   },
   "outputs": [
    {
     "name": "stdout",
     "output_type": "stream",
     "text": [
      "0.763829 (0.006619) with: {'init': 'normal', 'optimizer': 'rmsprop', 'nb_epoch': 150, 'batch_size': 5}\n",
      "0.736179 (0.009974) with: {'init': 'normal', 'optimizer': 'adam', 'nb_epoch': 150, 'batch_size': 5}\n",
      "0.762243 (0.013531) with: {'init': 'uniform', 'optimizer': 'rmsprop', 'nb_epoch': 150, 'batch_size': 5}\n",
      "0.752447 (0.008153) with: {'init': 'uniform', 'optimizer': 'adam', 'nb_epoch': 150, 'batch_size': 5}\n",
      "0.745927 (0.004026) with: {'init': 'normal', 'optimizer': 'rmsprop', 'nb_epoch': 150, 'batch_size': 10}\n",
      "0.758983 (0.011679) with: {'init': 'normal', 'optimizer': 'adam', 'nb_epoch': 150, 'batch_size': 10}\n",
      "0.755723 (0.017051) with: {'init': 'uniform', 'optimizer': 'rmsprop', 'nb_epoch': 150, 'batch_size': 10}\n",
      "0.754081 (0.008935) with: {'init': 'uniform', 'optimizer': 'adam', 'nb_epoch': 150, 'batch_size': 10}\n"
     ]
    },
    {
     "name": "stderr",
     "output_type": "stream",
     "text": [
      "/home/huihu/.local/lib/python2.7/site-packages/sklearn/model_selection/_search.py:662: DeprecationWarning: The grid_scores_ attribute was deprecated in version 0.18 in favor of the more elaborate cv_results_ attribute. The grid_scores_ attribute will not be available from 0.20\n",
      "  DeprecationWarning)\n"
     ]
    }
   ],
   "source": [
    "for params, mean_score, scores in grid_result.grid_scores_:\n",
    "    print(\"%f (%f) with: %r\" % (scores.mean(), scores.std(), params))"
   ]
  },
  {
   "cell_type": "code",
   "execution_count": null,
   "metadata": {
    "collapsed": true
   },
   "outputs": [],
   "source": []
  },
  {
   "cell_type": "markdown",
   "metadata": {},
   "source": [
    "## Prepare Data"
   ]
  },
  {
   "cell_type": "code",
   "execution_count": 5,
   "metadata": {
    "collapsed": false
   },
   "outputs": [
    {
     "name": "stderr",
     "output_type": "stream",
     "text": [
      "/usr/local/lib/python2.7/site-packages/sklearn/cross_validation.py:44: DeprecationWarning: This module was deprecated in version 0.18 in favor of the model_selection module into which all the refactored classes and functions are moved. Also note that the interface of the new CV iterators are different from that of this module. This module will be removed in 0.20.\n",
      "  \"This module will be removed in 0.20.\", DeprecationWarning)\n"
     ]
    }
   ],
   "source": [
    "from sklearn import cross_validation\n",
    "from sklearn.preprocessing import StandardScaler"
   ]
  },
  {
   "cell_type": "code",
   "execution_count": 6,
   "metadata": {
    "collapsed": false
   },
   "outputs": [],
   "source": [
    "array = dataset.values\n",
    "X = array[:,0:8]\n",
    "Y = array[:,8]"
   ]
  },
  {
   "cell_type": "code",
   "execution_count": 7,
   "metadata": {
    "collapsed": true
   },
   "outputs": [],
   "source": [
    "validation_size = 0.20\n",
    "seed = 7\n",
    "X_train, X_test, Y_train, Y_test = cross_validation.train_test_split(X, Y, test_size=validation_size, random_state=seed)"
   ]
  },
  {
   "cell_type": "code",
   "execution_count": 8,
   "metadata": {
    "collapsed": false
   },
   "outputs": [],
   "source": [
    "scaler = StandardScaler().fit(X_train)\n",
    "rescaledX_train = scaler.transform(X_train)"
   ]
  },
  {
   "cell_type": "markdown",
   "metadata": {},
   "source": [
    "## Tune Models"
   ]
  },
  {
   "cell_type": "code",
   "execution_count": 9,
   "metadata": {
    "collapsed": false
   },
   "outputs": [
    {
     "name": "stderr",
     "output_type": "stream",
     "text": [
      "/usr/local/lib/python2.7/site-packages/sklearn/grid_search.py:43: DeprecationWarning: This module was deprecated in version 0.18 in favor of the model_selection module into which all the refactored classes and functions are moved. This module will be removed in 0.20.\n",
      "  DeprecationWarning)\n"
     ]
    }
   ],
   "source": [
    "import numpy as np\n",
    "np.random.seed(7)\n",
    "import random\n",
    "random.seed(7)\n",
    "\n",
    "from sklearn.grid_search import GridSearchCV\n",
    "from sklearn.svm import SVC"
   ]
  },
  {
   "cell_type": "markdown",
   "metadata": {},
   "source": [
    "###  SVM with Linear Kernel"
   ]
  },
  {
   "cell_type": "code",
   "execution_count": 10,
   "metadata": {
    "collapsed": false
   },
   "outputs": [
    {
     "data": {
      "text/plain": [
       "GridSearchCV(cv=4, error_score='raise',\n",
       "       estimator=SVC(C=1.0, cache_size=200, class_weight=None, coef0=0.0,\n",
       "  decision_function_shape=None, degree=3, gamma='auto', kernel='linear',\n",
       "  max_iter=-1, probability=True, random_state=7, shrinking=True, tol=0.001,\n",
       "  verbose=False),\n",
       "       fit_params={}, iid=True, n_jobs=-1,\n",
       "       param_grid={'C': array([   1,   10,  100, 1000])},\n",
       "       pre_dispatch='2*n_jobs', refit=True, scoring='roc_auc', verbose=0)"
      ]
     },
     "execution_count": 10,
     "metadata": {},
     "output_type": "execute_result"
    }
   ],
   "source": [
    "C = 10**np.arange(0,4)\n",
    "param_grid = dict(C=C)\n",
    "model = SVC(random_state=seed, probability=True, kernel=\"linear\")\n",
    "scoring = 'roc_auc' \n",
    "num_folds = 4\n",
    "grid = GridSearchCV(cv=num_folds, estimator=model, param_grid=param_grid,scoring=scoring,n_jobs=-1)\n",
    "grid.fit(rescaledX_train, Y_train)"
   ]
  },
  {
   "cell_type": "code",
   "execution_count": 11,
   "metadata": {
    "collapsed": false
   },
   "outputs": [
    {
     "name": "stdout",
     "output_type": "stream",
     "text": [
      "0.820229475314\n",
      "1000\n"
     ]
    }
   ],
   "source": [
    "print(grid.best_score_)\n",
    "print(grid.best_estimator_.C)\n",
    "svmlTunedC = grid.best_estimator_.C"
   ]
  },
  {
   "cell_type": "markdown",
   "metadata": {},
   "source": [
    "### SVM with Polynomial Kernel"
   ]
  },
  {
   "cell_type": "code",
   "execution_count": 19,
   "metadata": {
    "collapsed": false
   },
   "outputs": [
    {
     "data": {
      "text/plain": [
       "GridSearchCV(cv=4, error_score='raise',\n",
       "       estimator=SVC(C=1.0, cache_size=200, class_weight=None, coef0=0.0,\n",
       "  decision_function_shape=None, degree=3, gamma='auto', kernel='poly',\n",
       "  max_iter=-1, probability=True, random_state=7, shrinking=True, tol=0.001,\n",
       "  verbose=False),\n",
       "       fit_params={}, iid=True, n_jobs=-1,\n",
       "       param_grid={'C': array([   1,   10,  100, 1000]), 'degree': array([2, 3])},\n",
       "       pre_dispatch='2*n_jobs', refit=True, scoring='roc_auc', verbose=0)"
      ]
     },
     "execution_count": 19,
     "metadata": {},
     "output_type": "execute_result"
    }
   ],
   "source": [
    "C = 10**np.arange(0,4)\n",
    "degree = np.arange(2,4)\n",
    "param_grid = dict(C=C,degree=degree)\n",
    "model = SVC(random_state=seed, probability=True, kernel=\"poly\")\n",
    "scoring = 'roc_auc' \n",
    "num_folds = 4\n",
    "grid = GridSearchCV(cv=num_folds, estimator=model, param_grid=param_grid,scoring=scoring,n_jobs=-1)\n",
    "grid.fit(rescaledX_train, Y_train)"
   ]
  },
  {
   "cell_type": "code",
   "execution_count": 20,
   "metadata": {
    "collapsed": false
   },
   "outputs": [
    {
     "name": "stdout",
     "output_type": "stream",
     "text": [
      "0.77015953184\n",
      "(1, 3)\n"
     ]
    }
   ],
   "source": [
    "print(grid.best_score_)\n",
    "print(grid.best_estimator_.C,grid.best_estimator_.degree)\n",
    "svmpTunedC = grid.best_estimator_.C\n",
    "svmpTunedDegree = grid.best_estimator_.degree"
   ]
  },
  {
   "cell_type": "markdown",
   "metadata": {},
   "source": [
    "### SVM with Gaussian Kernel"
   ]
  },
  {
   "cell_type": "code",
   "execution_count": 29,
   "metadata": {
    "collapsed": false
   },
   "outputs": [
    {
     "data": {
      "text/plain": [
       "GridSearchCV(cv=4, error_score='raise',\n",
       "       estimator=SVC(C=1.0, cache_size=200, class_weight=None, coef0=0.0,\n",
       "  decision_function_shape=None, degree=3, gamma='auto', kernel='rbf',\n",
       "  max_iter=-1, probability=True, random_state=7, shrinking=True, tol=0.001,\n",
       "  verbose=False),\n",
       "       fit_params={}, iid=True, n_jobs=-1,\n",
       "       param_grid={'C': array([  1,  10, 100]), 'gamma': array([100000,  10000,   1000,    100,     10,      1,      0,      0,\n",
       "            0,      0])},\n",
       "       pre_dispatch='2*n_jobs', refit=True, scoring='roc_auc', verbose=0)"
      ]
     },
     "execution_count": 29,
     "metadata": {},
     "output_type": "execute_result"
    }
   ],
   "source": [
    "C = 10**np.arange(0,3)\n",
    "gamma = 10**-np.arange(-5,5)\n",
    "param_grid = dict(C=C,gamma=gamma)\n",
    "model = SVC(random_state=seed, probability=True, kernel=\"rbf\")\n",
    "scoring = 'roc_auc' \n",
    "num_folds = 4\n",
    "grid = GridSearchCV(cv=num_folds, estimator=model, param_grid=param_grid,scoring=scoring,n_jobs=-1)\n",
    "grid.fit(rescaledX_train, Y_train)"
   ]
  },
  {
   "cell_type": "code",
   "execution_count": 30,
   "metadata": {
    "collapsed": false
   },
   "outputs": [
    {
     "name": "stdout",
     "output_type": "stream",
     "text": [
      "0.7642281997\n",
      "(1, 1)\n"
     ]
    }
   ],
   "source": [
    "print(grid.best_score_)\n",
    "print(grid.best_estimator_.C,grid.best_estimator_.gamma)\n",
    "svmgTunedC = grid.best_estimator_.C\n",
    "svmgTunedGamma = grid.best_estimator_.gamma"
   ]
  },
  {
   "cell_type": "markdown",
   "metadata": {},
   "source": [
    "## Evaluate Performance"
   ]
  },
  {
   "cell_type": "code",
   "execution_count": 32,
   "metadata": {
    "collapsed": true
   },
   "outputs": [],
   "source": [
    "from sklearn.pipeline import Pipeline\n",
    "from sklearn.metrics import auc\n",
    "from sklearn.metrics import roc_curve"
   ]
  },
  {
   "cell_type": "code",
   "execution_count": 33,
   "metadata": {
    "collapsed": false
   },
   "outputs": [],
   "source": [
    "seed = 7\n",
    "\n",
    "\n",
    "pipelines = []\n",
    "pipelines.append(('SVM-L', Pipeline([('Scaler', StandardScaler()),('SVM-L', SVC(random_state=seed, probability=True, kernel=\"linear\", C=svmlTunedC))])))\n",
    "pipelines.append(('SVM-P', Pipeline([('Scaler', StandardScaler()),('SVM-P', SVC(random_state=seed, probability=True, kernel=\"poly\", C=svmpTunedC, degree=svmpTunedDegree))])))\n",
    "pipelines.append(('SVM-G', Pipeline([('Scaler', StandardScaler()),('SVM-G', SVC(random_state=seed, probability=True, kernel=\"rbf\", C=svmgTunedC, gamma=svmgTunedGamma))])))"
   ]
  },
  {
   "cell_type": "code",
   "execution_count": 34,
   "metadata": {
    "collapsed": false
   },
   "outputs": [
    {
     "name": "stdout",
     "output_type": "stream",
     "text": [
      "SVM-L: 0.845542\n",
      "SVM-P: 0.811901\n",
      "SVM-G: 0.805028\n"
     ]
    }
   ],
   "source": [
    "# Make predictions on test dataset\n",
    "results = []\n",
    "names = []\n",
    "for name, model in pipelines:\n",
    "    model.fit(X_train,Y_train)\n",
    "    fpr, tpr, thresholds = roc_curve(Y_test,model.predict_proba(X_test)[:,1])\n",
    "    result = auc(fpr,tpr)\n",
    "    results.append(result)\n",
    "    names.append(name)\n",
    "    msg = \"%s: %f\" % (name, result)\n",
    "    print(msg)"
   ]
  }
 ],
 "metadata": {
  "kernelspec": {
   "display_name": "Python 2",
   "language": "python",
   "name": "python2"
  },
  "language_info": {
   "codemirror_mode": {
    "name": "ipython",
    "version": 2
   },
   "file_extension": ".py",
   "mimetype": "text/x-python",
   "name": "python",
   "nbconvert_exporter": "python",
   "pygments_lexer": "ipython2",
   "version": "2.7.12"
  }
 },
 "nbformat": 4,
 "nbformat_minor": 1
}
